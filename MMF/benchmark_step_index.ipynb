{
 "cells": [
  {
   "cell_type": "markdown",
   "metadata": {},
   "source": [
    "# pyMMF: Benchmark test for straights step index fibers"
   ]
  },
  {
   "cell_type": "code",
   "execution_count": 1,
   "metadata": {},
   "outputs": [],
   "source": [
    "import pyMMF\n",
    "import numpy as np\n",
    "import matplotlib.pyplot as plt\n",
    "%matplotlib inline\n",
    "from matplotlib import rc\n",
    "rc('figure', figsize=(18,9))\n",
    "rc('text', usetex=True)\n",
    "from IPython.display import display, Math"
   ]
  },
  {
   "cell_type": "markdown",
   "metadata": {},
   "source": [
    "## Fiber parameters"
   ]
  },
  {
   "cell_type": "code",
   "execution_count": 7,
   "metadata": {},
   "outputs": [],
   "source": [
    "## Parameters\n",
    "NA = 0.15\n",
    "radius = 10. # in microns\n",
    "areaSize = 3.5*radius # calculate the field on an area larger than the diameter of the fiber\n",
    "npoints = 2**8 # resolution of the window\n",
    "n1 = 1.45\n",
    "wl = 0.6328 # wavelength in microns"
   ]
  },
  {
   "cell_type": "markdown",
   "metadata": {},
   "source": [
    "## Instantiate the solver"
   ]
  },
  {
   "cell_type": "code",
   "execution_count": 8,
   "metadata": {},
   "outputs": [
    {
     "name": "stderr",
     "output_type": "stream",
     "text": [
      "2019-11-13 17:02:26,068 - pyMMF.core [DEBUG  ]  Debug mode ON.\n"
     ]
    },
    {
     "name": "stdout",
     "output_type": "stream",
     "text": [
      "Estimated number of modes using the V number = 56\n"
     ]
    }
   ],
   "source": [
    "# Create the fiber object\n",
    "profile = pyMMF.IndexProfile(npoints = npoints, areaSize = areaSize)\n",
    "\n",
    "# Initialize the index profile\n",
    "profile.initStepIndex(n1=n1,a=radius,NA=NA)\n",
    "\n",
    "# Instantiate the solver\n",
    "solver = pyMMF.propagationModeSolver()\n",
    "\n",
    "# Set the profile to the solver\n",
    "solver.setIndexProfile(profile)\n",
    "\n",
    "# Set the wavelength\n",
    "solver.setWL(wl)\n",
    "\n",
    "# Estimate the number of modes for a graded index fiber\n",
    "Nmodes_estim = pyMMF.estimateNumModesSI(wl,radius,NA,pola=1)\n",
    "\n",
    "print(f\"Estimated number of modes using the V number = {Nmodes_estim}\")"
   ]
  },
  {
   "cell_type": "markdown",
   "metadata": {},
   "source": [
    "## Semi-analytical solution"
   ]
  },
  {
   "cell_type": "code",
   "execution_count": 9,
   "metadata": {},
   "outputs": [
    {
     "name": "stderr",
     "output_type": "stream",
     "text": [
      "2019-11-13 17:02:26,276 - pyMMF.SI   [INFO   ]  Finding the propagation constant of step index fiber by numerically solving the dispersion relation.\n",
      "/opt/miniconda/envs/py36/lib/python3.6/site-packages/pyMMF/SI.py:106: RuntimeWarning: invalid value encountered in sqrt\n",
      "  w=np.sqrt(v**2-u**2)\n",
      "2019-11-13 17:02:26,637 - pyMMF.SI   [INFO   ]  Found 59 modes is 0.36 seconds.\n",
      "2019-11-13 17:02:32,755 - pyMMF.core [DEBUG  ]  Mode data stored in memory.\n"
     ]
    }
   ],
   "source": [
    "modes_semianalytical = solver.solve(mode = 'SI', curvature = None)"
   ]
  },
  {
   "cell_type": "markdown",
   "metadata": {},
   "source": [
    "## Numerical calculations"
   ]
  },
  {
   "cell_type": "code",
   "execution_count": 10,
   "metadata": {},
   "outputs": [
    {
     "name": "stderr",
     "output_type": "stream",
     "text": [
      "2019-11-13 17:02:32,763 - pyMMF.core [INFO   ]  Solving the spatial eigenvalue problem for mode finding.\n",
      "2019-11-13 17:02:32,764 - pyMMF.core [INFO   ]  Use close boundary condition.\n",
      "2019-11-13 17:04:50,701 - pyMMF.core [INFO   ]  Solver found 59 modes is 137.94 seconds.\n",
      "2019-11-13 17:04:50,702 - pyMMF.core [DEBUG  ]  Mode data stored in memory.\n"
     ]
    }
   ],
   "source": [
    "modes_eig = solver.solve(nmodesMax=Nmodes_estim+10,boundary = 'close', mode = 'eig', curvature = None, propag_only=True)"
   ]
  },
  {
   "cell_type": "markdown",
   "metadata": {},
   "source": [
    "## Comparing results"
   ]
  },
  {
   "cell_type": "code",
   "execution_count": 12,
   "metadata": {},
   "outputs": [
    {
     "data": {
      "image/png": "[encoded data removed]",
      "text/plain": [
       "<Figure size 432x288 with 1 Axes>"
      ]
     },
     "metadata": {},
     "output_type": "display_data"
    },
    {
     "data": {
      "text/latex": [
       "$\\displaystyle \\frac{\\left\\langle\\left|\\beta_{num}-\\beta_{SA}\\right|\\right\\rangle}{\\beta_{max}-\\beta_{min}}= 1.06e-03$"
      ],
      "text/plain": [
       "<IPython.core.display.Math object>"
      ]
     },
     "metadata": {},
     "output_type": "display_data"
    },
    {
     "data": {
      "text/latex": [
       "$\\displaystyle \\frac{\\max{}\\left|\\beta_{num}-\\beta_{SA}\\right|}{\\beta_{max}-\\beta_{min}}= 2.52e-03$"
      ],
      "text/plain": [
       "<IPython.core.display.Math object>"
      ]
     },
     "metadata": {},
     "output_type": "display_data"
    }
   ],
   "source": [
    "# Sort the modes\n",
    "modes = {}\n",
    "idx = np.flip(np.argsort(modes_semianalytical.betas), axis=0)\n",
    "modes['SA'] = {'betas':np.array(modes_semianalytical.betas)[idx],'profiles':[modes_semianalytical.profiles[i] for i in idx]}\n",
    "idx = np.flip(np.argsort(modes_eig.betas), axis=0)\n",
    "modes['num'] = {'betas':np.array(modes_eig.betas)[idx],'profiles':[modes_eig.profiles[i] for i in idx]}\n",
    "\n",
    "\n",
    "def sort(a):\n",
    "    return np.flip(np.sort(a),axis=0)\n",
    "\n",
    "# Estimating error\n",
    "delta_beta = np.max(modes_semianalytical.betas)-np.min(modes_semianalytical.betas)\n",
    "me = np.mean(np.abs(modes['num']['betas']-modes['SA']['betas']))/delta_beta\n",
    "maxe = np.max(np.abs(modes['num']['betas']-modes['SA']['betas']))/delta_beta\n",
    "\n",
    "\n",
    "plt.figure(); \n",
    "plt.plot(sort(np.real(modes_eig.betas)),label='Semi-analytical',linewidth=2.)\n",
    "plt.plot(sort(np.real(modes_semianalytical.betas)),'r--',label='Numerical simulations',linewidth=2.)\n",
    "plt.xticks(fontsize = 20)\n",
    "plt.yticks(fontsize = 20)\n",
    "plt.title(r'Semi-analytical VS numerical simulations' ,fontsize = 30)\n",
    "plt.ylabel(r'Propagation constant $\\beta$ (in $\\mu$m$^{-1}$)', fontsize = 25)\n",
    "plt.xlabel(r'Mode index', fontsize = 25)\n",
    "plt.legend(fontsize = 22,loc='upper right')\n",
    "plt.show()\n",
    "\n",
    "\n",
    "display(Math(r'\\frac{\\left\\langle\\left|\\beta_{num}-\\beta_{SA}\\right|\\right\\rangle}{\\beta_{max}-\\beta_{min}}= %.2e' % me))\n",
    "display(Math(r'\\frac{\\max{}\\left|\\beta_{num}-\\beta_{SA}\\right|}{\\beta_{max}-\\beta_{min}}= %.2e' % maxe))\n",
    "\n"
   ]
  },
  {
   "cell_type": "markdown",
   "metadata": {},
   "source": [
    "## Comparing numerical solutions to LP modes"
   ]
  },
  {
   "cell_type": "code",
   "execution_count": null,
   "metadata": {},
   "outputs": [],
   "source": [
    "imode = 27\n",
    "plt.figure()\n",
    "plt.subplot(121)\n",
    "plt.imshow(np.abs(modes['SA']['profiles'][imode].reshape([npoints]*2)))\n",
    "plt.gca().set_title(\"Ideal LP mode\",fontsize=25)\n",
    "plt.axis('off')\n",
    "plt.subplot(122)\n",
    "plt.imshow(np.abs(modes['num']['profiles'][imode].reshape([npoints]*2)))\n",
    "plt.gca().set_title(\"Numerical simulations\",fontsize=25)\n",
    "plt.axis('off')"
   ]
  },
  {
   "cell_type": "code",
   "execution_count": null,
   "metadata": {},
   "outputs": [],
   "source": []
  }
 ],
 "metadata": {
  "kernelspec": {
   "display_name": "Python 3",
   "language": "python",
   "name": "python3"
  },
  "language_info": {
   "codemirror_mode": {
    "name": "ipython",
    "version": 3
   },
   "file_extension": ".py",
   "mimetype": "text/x-python",
   "name": "python",
   "nbconvert_exporter": "python",
   "pygments_lexer": "ipython3",
   "version": "3.6.8"
  },
  "toc": {
   "base_numbering": 1,
   "nav_menu": {},
   "number_sections": true,
   "sideBar": true,
   "skip_h1_title": true,
   "title_cell": "Table of Contents",
   "title_sidebar": "Contents",
   "toc_cell": false,
   "toc_position": {},
   "toc_section_display": true,
   "toc_window_display": false
  }
 },
 "nbformat": 4,
 "nbformat_minor": 2
}
