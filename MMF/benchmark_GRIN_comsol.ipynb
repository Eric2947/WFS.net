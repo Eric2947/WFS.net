{
 "cells": [
  {
   "cell_type": "code",
   "execution_count": 2,
   "metadata": {},
   "outputs": [],
   "source": [
    "from scipy.io import loadmat\n",
    "import matplotlib.pyplot as plt\n",
    "import numpy as np\n",
    "import scipy\n",
    "import pyMMF\n",
    "\n",
    "%matplotlib inline\n",
    "\n",
    "SMALL_SIZE = 14\n",
    "MEDIUM_SIZE = 16\n",
    "BIGGER_SIZE = 18\n",
    "\n",
    "plt.rcParams.update({'font.size': MEDIUM_SIZE})\n",
    "plt.rc('font', size=SMALL_SIZE)          # controls default text sizes\n",
    "plt.rc('axes', titlesize=MEDIUM_SIZE)     # fontsize of the axes title\n",
    "plt.rc('axes', labelsize=MEDIUM_SIZE)    # fontsize of the x and y labels\n",
    "plt.rc('xtick', labelsize=SMALL_SIZE)    # fontsize of the tick labels\n",
    "plt.rc('ytick', labelsize=SMALL_SIZE)    # fontsize of the tick labels\n",
    "plt.rc('legend', fontsize=SMALL_SIZE)    # legend fontsize\n",
    "plt.rc('figure', titlesize=BIGGER_SIZE)  # fontsize of the figure title"
   ]
  },
  {
   "cell_type": "markdown",
   "metadata": {},
   "source": [
    "## 1. Parameters of the fiber\n",
    "Comsol simulation were done using those same parameters"
   ]
  },
  {
   "cell_type": "code",
   "execution_count": null,
   "metadata": {},
   "outputs": [],
   "source": [
    "NA = 0.2\n",
    "radius = 25 # in microns\n",
    "areaSize = 2.4*radius # calculate the field on an area larger than the diameter of the fiber\n",
    "npoints = 2**7 # resolution of the window\n",
    "n1 = 1.45\n",
    "wl = 1.55 # wavelength in microns\n",
    "curvature = None\n",
    "k0 = 2.*np.pi/wl\n",
    "\n",
    "\n",
    "r_max = 3.2*radius\n",
    "npoints_search = 2**8\n",
    "dh = 2*radius/npoints_search"
   ]
  },
  {
   "cell_type": "markdown",
   "metadata": {},
   "source": [
    "## 2. Compute transverse modes using pyMMF's axisymmetric solver"
   ]
  },
  {
   "cell_type": "code",
   "execution_count": null,
   "metadata": {},
   "outputs": [],
   "source": [
    "profile = pyMMF.IndexProfile(npoints = npoints, areaSize = areaSize)\n",
    "profile.initParabolicGRIN(n1=n1,a=radius,NA=NA)"
   ]
  },
  {
   "cell_type": "code",
   "execution_count": null,
   "metadata": {},
   "outputs": [],
   "source": [
    "plt.figure()\n",
    "plt.imshow(profile.n.reshape([npoints]*2))\n",
    "plt.title(r'Index porfile')\n",
    "plt.axis('off')\n",
    "plt.colorbar()"
   ]
  },
  {
   "cell_type": "code",
   "execution_count": null,
   "metadata": {},
   "outputs": [],
   "source": [
    "solver = pyMMF.propagationModeSolver()\n",
    "solver.setIndexProfile(profile)\n",
    "solver.setWL(wl)\n",
    "modes = solver.solve(\n",
    "        mode='radial',\n",
    "        curvature = None,\n",
    "        r_max = r_max, # max radius to calculate (and first try for large radial boundary condition)\n",
    "        dh = dh, # radial resolution during the computation\n",
    "        min_radius_bc = 1.5, # min large radial boundary condition\n",
    "        change_bc_radius_step = 0.95, #change of the large radial boundary condition if fails \n",
    "        N_beta_coarse = int(1e3) # number of steps of the initial coarse scan\n",
    "        )"
   ]
  },
  {
   "cell_type": "markdown",
   "metadata": {},
   "source": [
    "### Get the mode matrix and rearrange to mode order \n",
    "(to fit with comsol data later on)"
   ]
  },
  {
   "cell_type": "code",
   "execution_count": null,
   "metadata": {},
   "outputs": [],
   "source": [
    "M0_as = modes.getModeMatrix(npola = 2)\n",
    "Nmodes = modes.number\n",
    "new_ind = [i//2 if i%2 == 0 else (i-1)//2+Nmodes for i in range(2*Nmodes)]\n",
    "M0_as = M0_as[:,new_ind]\n",
    "betas_as = np.sort(np.concatenate([modes.betas]*2))[::-1]\n",
    "M = modes.m\n",
    "L = modes.l"
   ]
  },
  {
   "cell_type": "markdown",
   "metadata": {},
   "source": [
    "## 3. Compute transverse modes using pyMMF's 2D finite difference eigenvalue solver\n",
    "See wavefrontshapin.net tutorial on [solving the Helmholtz discretized equation](https://www.wavefrontshaping.net/post/id/3) and on [pyMMF implementation](https://www.wavefrontshaping.net/post/id/6)."
   ]
  },
  {
   "cell_type": "code",
   "execution_count": null,
   "metadata": {},
   "outputs": [],
   "source": [
    "modes = solver.solve(\n",
    "        mode='eig',\n",
    "        nmodesMax=Nmodes)"
   ]
  },
  {
   "cell_type": "code",
   "execution_count": null,
   "metadata": {},
   "outputs": [],
   "source": [
    "M0_eig = modes.getModeMatrix(npola = 2)\n",
    "M0_eig = M0_eig[:,new_ind]\n",
    "# dupliate the propagation constants for the two polarizations\n",
    "betas_eig = np.abs(np.sort(np.concatenate([modes.betas]*2))[::-1])"
   ]
  },
  {
   "cell_type": "markdown",
   "metadata": {},
   "source": [
    "## 4. WKB approximation"
   ]
  },
  {
   "cell_type": "code",
   "execution_count": null,
   "metadata": {},
   "outputs": [],
   "source": [
    "n2 = np.sqrt(n1**2-NA**2)\n",
    "Delta = NA**2/(2.*n2**2)\n",
    "# b = radius/np.sqrt(2*Delta)\n",
    "b = radius*n2/NA\n",
    "f_parabolic = lambda r: np.sqrt(n1**2*(1.-(r/b)**2))"
   ]
  },
  {
   "cell_type": "code",
   "execution_count": null,
   "metadata": {},
   "outputs": [],
   "source": [
    "r_vec = np.linspace(0, 0.7*areaSize, 150)\n",
    "real_profile = [profile.radialFunc(r) for r in r_vec]\n",
    "infinite_GRIN_profile = [f_parabolic(r) for r in r_vec]\n",
    "plt.figure()\n",
    "plt.plot(r_vec,real_profile)\n",
    "plt.plot(r_vec,infinite_GRIN_profile, '--')"
   ]
  },
  {
   "cell_type": "markdown",
   "metadata": {},
   "source": [
    "## propagation constants unde WKB approximation\n",
    "\n",
    "$\\sqrt{k_o^2 n_1^2-2\\alpha \\left( |l|+2m+1\\right)}$\n",
    "\n",
    "$\\alpha = k_o n_1/b$ \n",
    "\n",
    "and \n",
    "\n",
    "$b = \\frac{radius \\times n_1}{NA}$"
   ]
  },
  {
   "cell_type": "code",
   "execution_count": null,
   "metadata": {},
   "outputs": [],
   "source": [
    "n0 = np.min(profile.n)\n",
    "alpha = k0*n2/b\n",
    "betas_wkb = []\n",
    "\n",
    "for m,l in zip(M,L):\n",
    "    betas_wkb.append(np.sqrt(k0**2*n1**2-2*alpha*(np.abs(m)+2*l+1)))\n",
    " \n",
    "\n",
    "betas_wkb = np.concatenate([betas_wkb]*2)\n",
    "new_ind = np.argsort(betas_wkb)[::-1]\n",
    "betas_wkb = betas_wkb[new_ind]"
   ]
  },
  {
   "cell_type": "markdown",
   "metadata": {},
   "source": [
    "### Mode profile under WKB approximation\n",
    "\n",
    "$\\psi_{l,m}(r, \\phi) = A e^{- \\frac{\\alpha r^2}{2}}\n",
    "(\\alpha r^2)^{|m|/2} L_l^{|m|}(\\alpha r^2)e^{im\\phi}\n",
    "$\n",
    "\n",
    "$L_l^{|m|}$ Laguerre polynomial"
   ]
  },
  {
   "cell_type": "code",
   "execution_count": 1,
   "metadata": {},
   "outputs": [
    {
     "ename": "NameError",
     "evalue": "name 'np' is not defined",
     "output_type": "error",
     "traceback": [
      "\u001b[0;31m---------------------------------------------------------------------------\u001b[0m",
      "\u001b[0;31mNameError\u001b[0m                                 Traceback (most recent call last)",
      "\u001b[0;32m<ipython-input-1-0bb9f64414db>\u001b[0m in \u001b[0;36m<module>\u001b[0;34m\u001b[0m\n\u001b[1;32m      1\u001b[0m \u001b[0;32mfrom\u001b[0m \u001b[0mscipy\u001b[0m\u001b[0;34m.\u001b[0m\u001b[0mspecial\u001b[0m \u001b[0;32mimport\u001b[0m \u001b[0mgenlaguerre\u001b[0m\u001b[0;34m\u001b[0m\u001b[0;34m\u001b[0m\u001b[0m\n\u001b[0;32m----> 2\u001b[0;31m \u001b[0mM0_wkb\u001b[0m \u001b[0;34m=\u001b[0m \u001b[0mnp\u001b[0m\u001b[0;34m.\u001b[0m\u001b[0mempty\u001b[0m\u001b[0;34m(\u001b[0m\u001b[0mshape\u001b[0m \u001b[0;34m=\u001b[0m \u001b[0;34m(\u001b[0m\u001b[0;36m2\u001b[0m\u001b[0;34m*\u001b[0m\u001b[0mnpoints\u001b[0m\u001b[0;34m**\u001b[0m\u001b[0;36m2\u001b[0m\u001b[0;34m,\u001b[0m\u001b[0;36m2\u001b[0m\u001b[0;34m*\u001b[0m\u001b[0mNmodes\u001b[0m\u001b[0;34m)\u001b[0m\u001b[0;34m,\u001b[0m \u001b[0mdtype\u001b[0m \u001b[0;34m=\u001b[0m \u001b[0mnp\u001b[0m\u001b[0;34m.\u001b[0m\u001b[0mcomplex\u001b[0m\u001b[0;34m)\u001b[0m\u001b[0;34m\u001b[0m\u001b[0;34m\u001b[0m\u001b[0m\n\u001b[0m\u001b[1;32m      3\u001b[0m \u001b[0maR2\u001b[0m \u001b[0;34m=\u001b[0m \u001b[0malpha\u001b[0m\u001b[0;34m*\u001b[0m\u001b[0mprofile\u001b[0m\u001b[0;34m.\u001b[0m\u001b[0mR\u001b[0m\u001b[0;34m.\u001b[0m\u001b[0mravel\u001b[0m\u001b[0;34m(\u001b[0m\u001b[0;34m)\u001b[0m\u001b[0;34m**\u001b[0m\u001b[0;36m2\u001b[0m\u001b[0;34m\u001b[0m\u001b[0;34m\u001b[0m\u001b[0m\n\u001b[1;32m      4\u001b[0m \u001b[0;34m\u001b[0m\u001b[0m\n\u001b[1;32m      5\u001b[0m \u001b[0mprev_m\u001b[0m\u001b[0;34m,\u001b[0m \u001b[0mprev_l\u001b[0m \u001b[0;34m=\u001b[0m \u001b[0;34m-\u001b[0m\u001b[0;36m1\u001b[0m\u001b[0;34m,\u001b[0m \u001b[0;34m-\u001b[0m\u001b[0;36m1\u001b[0m\u001b[0;34m\u001b[0m\u001b[0;34m\u001b[0m\u001b[0m\n",
      "\u001b[0;31mNameError\u001b[0m: name 'np' is not defined"
     ]
    }
   ],
   "source": [
    "from scipy.special import genlaguerre\n",
    "M0_wkb = np.empty(shape = (2*npoints**2,2*Nmodes), dtype = np.complex)\n",
    "aR2 = alpha*profile.R.ravel()**2\n",
    "\n",
    "prev_m, prev_l = -1, -1\n",
    "\n",
    "for i,(m,l) in enumerate(zip(M,L)):\n",
    "    \n",
    "    c = -1 if (prev_m == m and prev_l == l) else 1       \n",
    "    mode_profile = np.exp(-aR2/2)*aR2**(np.abs(m)/2)*genlaguerre(l,np.abs(m))(aR2)*np.exp(1j*c*m*profile.TH.ravel())\n",
    "    mode_profile = mode_profile/np.linalg.norm(mode_profile)\n",
    "    M0_wkb[:npoints**2,i] = mode_profile\n",
    "    M0_wkb[npoints**2:,i+Nmodes] = mode_profile\n",
    "    \n",
    "    prev_m = m\n",
    "    prev_l = l\n",
    "    \n",
    "M0_wkb = M0_wkb[...,new_ind]"
   ]
  },
  {
   "cell_type": "markdown",
   "metadata": {},
   "source": [
    "## 5. Load Comsol data\n",
    "We used the same paramters as for pyMMF calculations.\n",
    "Simulation are full vectorial FDTD simulation, so we do have a \n",
    "(small) longitudinal component of the optical field. "
   ]
  },
  {
   "cell_type": "code",
   "execution_count": null,
   "metadata": {},
   "outputs": [],
   "source": [
    "data = np.load('modes_transverse_comsol_128.npz')\n",
    "# matrix of transverse mode profiles\n",
    "M0_cs = data['M0_cs']\n",
    "# propagation constats \n",
    "betas_cs = data['betas']"
   ]
  },
  {
   "cell_type": "markdown",
   "metadata": {},
   "source": [
    "### Show one mode"
   ]
  },
  {
   "cell_type": "code",
   "execution_count": 14,
   "metadata": {},
   "outputs": [
    {
     "data": {
      "application/vnd.jupyter.widget-view+json": {
       "model_id": "d4e33be810154d8fba3515e13f73437d",
       "version_major": 2,
       "version_minor": 0
      },
      "text/plain": [
       "Canvas(toolbar=Toolbar(toolitems=[('Home', 'Reset original view', 'home', 'home'), ('Back', 'Back to previous …"
      ]
     },
     "metadata": {},
     "output_type": "display_data"
    },
    {
     "data": {
      "application/vnd.jupyter.widget-view+json": {
       "model_id": "462013deb8d54a2e8b799594fe83eb2c",
       "version_major": 2,
       "version_minor": 0
      },
      "text/plain": [
       "Canvas(toolbar=Toolbar(toolitems=[('Home', 'Reset original view', 'home', 'home'), ('Back', 'Back to previous …"
      ]
     },
     "metadata": {},
     "output_type": "display_data"
    },
    {
     "data": {
      "text/plain": [
       "Text(0.5, 0.98, 'Full vectorial FDTD (Comsol)\\n Mode 50')"
      ]
     },
     "execution_count": 14,
     "metadata": {},
     "output_type": "execute_result"
    }
   ],
   "source": [
    "ind = 50\n",
    "\n",
    "Ex = M0_cs[:npoints**2,ind].reshape([npoints]*2)\n",
    "Ey = M0_cs[npoints**2:2*npoints**2,ind].reshape([npoints]*2)\n",
    "Ez = M0_cs[2*npoints**2:,ind].reshape([npoints]*2)\n",
    "\n",
    "max_E = np.max([np.max(np.abs(E)) for E in [Ex,Ey]])\n",
    "\n",
    "plt.figure(figsize=[12,5])\n",
    "plt.subplot(131)\n",
    "plt.imshow(np.abs(Ex), vmax = max_E)\n",
    "plt.axis('off')\n",
    "plt.title(r'$|E_x|$')\n",
    "plt.subplot(132)\n",
    "plt.imshow(np.abs(Ey), vmax = max_E)\n",
    "plt.axis('off')\n",
    "plt.title(r'$|E_y|$')\n",
    "plt.subplot(133)\n",
    "plt.imshow(np.abs(Ez), vmax = max_E)\n",
    "plt.axis('off')\n",
    "plt.title(r'$|E_z|$')\n",
    "plt.suptitle(f'Full vectorial FDTD (Comsol)\\n Mode {ind}')\n",
    "\n",
    "plt.figure(figsize=[8,5])\n",
    "plt.subplot(121)\n",
    "plt.imshow(np.sqrt(np.abs(Ex)**2+np.abs(Ey)**2), vmax = max_E)\n",
    "plt.axis('off')\n",
    "plt.title(r'$|E_t|$')\n",
    "plt.subplot(122)\n",
    "plt.imshow(np.abs(Ey), vmax = max_E)\n",
    "plt.axis('off')\n",
    "plt.title(r'$|E_y|$')\n",
    "plt.suptitle(f'Full vectorial FDTD (Comsol)\\n Mode {ind}')"
   ]
  },
  {
   "cell_type": "markdown",
   "metadata": {},
   "source": [
    "## 6. Compare propagation constants"
   ]
  },
  {
   "cell_type": "markdown",
   "metadata": {},
   "source": [
    "### 6.1 Whole range"
   ]
  },
  {
   "cell_type": "code",
   "execution_count": 15,
   "metadata": {},
   "outputs": [
    {
     "data": {
      "application/vnd.jupyter.widget-view+json": {
       "model_id": "ef4aee3e16c34099804ca9f4a3e1d992",
       "version_major": 2,
       "version_minor": 0
      },
      "text/plain": [
       "Canvas(toolbar=Toolbar(toolitems=[('Home', 'Reset original view', 'home', 'home'), ('Back', 'Back to previous …"
      ]
     },
     "metadata": {},
     "output_type": "display_data"
    },
    {
     "data": {
      "text/plain": [
       "<matplotlib.legend.Legend at 0x7f1b66482978>"
      ]
     },
     "execution_count": 15,
     "metadata": {},
     "output_type": "execute_result"
    }
   ],
   "source": [
    "msize = 10\n",
    "beta_max = k0*n1\n",
    "beta_min = k0*np.min(profile.n)\n",
    "plt.figure(figsize = (10,6))\n",
    "plt.plot(np.abs(betas_cs[:110]),'b+', label = 'Comsol', markersize = msize, markeredgewidth=2)\n",
    "plt.plot(betas_as,'r*', label = 'pyMMF axisymmetric solver', markersize = msize, markeredgewidth=2)\n",
    "plt.plot(betas_eig,'gx', label = 'pyMMF 2D eigenvalue solver', markersize = msize, markeredgewidth=2)\n",
    "plt.plot(betas_wkb,'k.', label = 'WKB', markersize = msize,markeredgewidth=2)\n",
    "plt.axhline(beta_min, color='g')\n",
    "plt.axhline(beta_max, color='g')\n",
    "plt.xlabel('Modes')\n",
    "plt.ylabel('Propagation constant')\n",
    "plt.ylim([5.81,5.88])\n",
    "plt.legend(fontsize=16, loc = 'upper right')"
   ]
  },
  {
   "cell_type": "markdown",
   "metadata": {},
   "source": [
    "## Show a mode\n"
   ]
  },
  {
   "cell_type": "markdown",
   "metadata": {},
   "source": [
    "### 6.2 Zoom on lower order modes"
   ]
  },
  {
   "cell_type": "code",
   "execution_count": 16,
   "metadata": {},
   "outputs": [
    {
     "data": {
      "application/vnd.jupyter.widget-view+json": {
       "model_id": "23cfba799782448a8d63e1f4892d4fda",
       "version_major": 2,
       "version_minor": 0
      },
      "text/plain": [
       "Canvas(toolbar=Toolbar(toolitems=[('Home', 'Reset original view', 'home', 'home'), ('Back', 'Back to previous …"
      ]
     },
     "metadata": {},
     "output_type": "display_data"
    },
    {
     "data": {
      "text/plain": [
       "<matplotlib.legend.Legend at 0x7f1b6616f860>"
      ]
     },
     "execution_count": 16,
     "metadata": {},
     "output_type": "execute_result"
    }
   ],
   "source": [
    "msize = 14\n",
    "xlim = [0,10]\n",
    "ylim = [5.86,5.875]\n",
    "beta_max = k0*n1\n",
    "beta_min = k0*np.min(profile.n)\n",
    "plt.figure(figsize = (10,6))\n",
    "plt.plot(np.abs(betas_cs[:110]),'b+', label = 'Comsol', markersize = 1.5*msize, markeredgewidth=2)\n",
    "plt.plot(betas_as,'r*', label = 'pyMMF axisymmetric solver', markersize = msize, markeredgewidth=2)\n",
    "plt.plot(betas_eig,'gx', label = 'pyMMF 2D eigenvalue solver', markersize = msize, markeredgewidth=2)\n",
    "plt.plot(betas_wkb,'k.', label = 'WKB', markersize = msize,)\n",
    "plt.axhline(beta_min, color='g')\n",
    "plt.axhline(beta_max, color='g')\n",
    "plt.xlabel('Modes')\n",
    "plt.ylabel('Propagation constant')\n",
    "plt.xlim(xlim)\n",
    "plt.ylim(ylim)\n",
    "plt.legend(fontsize=16, loc = 'upper right')"
   ]
  },
  {
   "cell_type": "markdown",
   "metadata": {},
   "source": [
    "### 6.3 Zoom on higher order modes"
   ]
  },
  {
   "cell_type": "code",
   "execution_count": 17,
   "metadata": {},
   "outputs": [
    {
     "data": {
      "application/vnd.jupyter.widget-view+json": {
       "model_id": "a0e635b5975044628d149bee95cc8b15",
       "version_major": 2,
       "version_minor": 0
      },
      "text/plain": [
       "Canvas(toolbar=Toolbar(toolitems=[('Home', 'Reset original view', 'home', 'home'), ('Back', 'Back to previous …"
      ]
     },
     "metadata": {},
     "output_type": "display_data"
    },
    {
     "data": {
      "text/plain": [
       "<matplotlib.legend.Legend at 0x7f1b661f3b38>"
      ]
     },
     "execution_count": 17,
     "metadata": {},
     "output_type": "execute_result"
    }
   ],
   "source": [
    "xlim = [89,110]\n",
    "ylim = [5.8215,5.824]\n",
    "beta_max = k0*n1\n",
    "beta_min = k0*np.min(profile.n)\n",
    "plt.figure(figsize = (10,6))\n",
    "plt.plot(np.abs(betas_cs[:110]),'b+', label = 'Comsol', markersize = 1.5*msize, markeredgewidth=2)\n",
    "plt.plot(betas_as,'r*', label = 'pyMMF axisymmetric solver', markersize = msize, markeredgewidth=2)\n",
    "plt.plot(betas_eig,'gx', label = 'pyMMF 2D eigenvalue solver', markersize = msize, markeredgewidth=2)\n",
    "plt.plot(betas_wkb,'k.', label = 'WKB', markersize = msize,)\n",
    "plt.axhline(beta_min, color='g')\n",
    "plt.axhline(beta_max, color='g')\n",
    "plt.xlabel('Modes')\n",
    "plt.ylabel('Propagation constant')\n",
    "plt.xlim(xlim)\n",
    "plt.ylim(ylim)\n",
    "plt.legend(fontsize=16, loc = 'upper right')"
   ]
  },
  {
   "cell_type": "code",
   "execution_count": 18,
   "metadata": {},
   "outputs": [
    {
     "data": {
      "application/vnd.jupyter.widget-view+json": {
       "model_id": "ee0a88b71f8b437b8feb9f9f1da676d2",
       "version_major": 2,
       "version_minor": 0
      },
      "text/plain": [
       "Canvas(toolbar=Toolbar(toolitems=[('Home', 'Reset original view', 'home', 'home'), ('Back', 'Back to previous …"
      ]
     },
     "metadata": {},
     "output_type": "display_data"
    },
    {
     "data": {
      "text/plain": [
       "(-0.5, 127.5, 127.5, -0.5)"
      ]
     },
     "execution_count": 18,
     "metadata": {},
     "output_type": "execute_result"
    }
   ],
   "source": [
    "i = 4\n",
    "ex = M0_cs[:npoints**2,i].reshape([npoints]*2)\n",
    "ey = M0_cs[npoints**2:2*npoints**2,i].reshape([npoints]*2)\n",
    "ex2 = M0_as[:npoints**2,i].reshape([npoints]*2)\n",
    "ey2 = M0_as[npoints**2:,i].reshape([npoints]*2)\n",
    "\n",
    "m = np.max([np.max(np.abs(ex)),np.max(np.abs(ey))])\n",
    "m2 = np.max([np.max(np.abs(ex2)),np.max(np.abs(ey2))])\n",
    "plt.figure(figsize=(9,9))\n",
    "plt.subplot(221)\n",
    "plt.imshow(np.abs(ex), vmax = m)\n",
    "plt.axis('off')\n",
    "plt.title(r'$|E_x|$')\n",
    "plt.subplot(222)\n",
    "plt.imshow(np.abs(ey), vmax = m)\n",
    "plt.axis('off')\n",
    "plt.title(r'$|E_y|$')\n",
    "plt.subplot(223)\n",
    "plt.imshow(np.abs(ex2), vmax = m2)\n",
    "plt.axis('off')\n",
    "plt.subplot(224)\n",
    "plt.imshow(np.abs(ey2), vmax = m2)\n",
    "plt.axis('off')"
   ]
  },
  {
   "cell_type": "markdown",
   "metadata": {},
   "source": [
    "## 7. Projection of one basis onto the other one\n",
    "#### The order **inside** each degenerate group is not exacty the same, but it is normal as they are degenerate."
   ]
  },
  {
   "cell_type": "markdown",
   "metadata": {},
   "source": [
    "### First compute the mask corresponding to groups of degenerate modes"
   ]
  },
  {
   "cell_type": "code",
   "execution_count": 19,
   "metadata": {},
   "outputs": [
    {
     "data": {
      "application/vnd.jupyter.widget-view+json": {
       "model_id": "c4f0c261efac421b80d413c0fdd2046a",
       "version_major": 2,
       "version_minor": 0
      },
      "text/plain": [
       "Canvas(toolbar=Toolbar(toolitems=[('Home', 'Reset original view', 'home', 'home'), ('Back', 'Back to previous …"
      ]
     },
     "metadata": {},
     "output_type": "display_data"
    },
    {
     "data": {
      "text/plain": [
       "<matplotlib.image.AxesImage at 0x7f1b664767f0>"
      ]
     },
     "execution_count": 19,
     "metadata": {},
     "output_type": "execute_result"
    }
   ],
   "source": [
    "ind_degenerate = modes.getNearDegenerate(tol = 1e-3)\n",
    "mask_degenerate = np.zeros(shape = [Nmodes*2]*2, dtype = np.float)\n",
    "\n",
    "for ind in ind_degenerate:\n",
    "    mask_degenerate[2*min(ind):2*max(ind)+2,2*min(ind):2*max(ind)+2] = 1\n",
    "\n",
    "# mask_degenerate = np.kron(np.eye(2),mask_degenerate)  \n",
    "plt.close('all')\n",
    "plt.figure()\n",
    "plt.imshow(mask_degenerate)"
   ]
  },
  {
   "cell_type": "markdown",
   "metadata": {},
   "source": [
    "### 7.1 Display conversion matrices"
   ]
  },
  {
   "cell_type": "code",
   "execution_count": 21,
   "metadata": {},
   "outputs": [],
   "source": [
    "# only keep transverse field and the propagating modes\n",
    "M0_cs_trans = M0_cs[:2*npoints**2,:110]\n",
    "\n",
    "A_as = M0_cs_trans.transpose().conjugate()@M0_as\n",
    "A_eig = M0_cs_trans.transpose().conjugate()@M0_eig\n",
    "A_wkb = M0_cs_trans.transpose().conjugate()@M0_wkb"
   ]
  },
  {
   "cell_type": "code",
   "execution_count": null,
   "metadata": {},
   "outputs": [],
   "source": [
    "energy_ratio_as = 1-np.linalg.norm(A_as*mask_degenerate)/np.linalg.norm(A_as)\n",
    "energy_ratio_eig = 1-np.linalg.norm(A_eig*mask_degenerate)/np.linalg.norm(A_eig)\n",
    "energy_ratio_wkb = 1-np.linalg.norm(A_wkb*mask_degenerate)/np.linalg.norm(A_wkb)\n",
    "\n",
    "plt.figure(figsize = (10,4))\n",
    "plt.subplot(131)\n",
    "plt.imshow(np.abs(A_as), interpolation = 'None')\n",
    "plt.axis('off')\n",
    "plt.title(f'axisymmetric solver\\n ratio = {100*energy_ratio_as:.2e}%')\n",
    "plt.subplot(132)\n",
    "plt.imshow(np.abs(A_eig), interpolation = 'None')\n",
    "plt.axis('off')\n",
    "plt.title(f'2D eigenvalue solver\\n ratio = {100*energy_ratio_eig:.2e}%')\n",
    "plt.subplot(133)\n",
    "plt.imshow(np.abs(A_wkb), interpolation = 'None')\n",
    "plt.axis('off')\n",
    "plt.title(f'WKB\\n ratio = {100*energy_ratio_wkb:.2e}%')\n"
   ]
  },
  {
   "cell_type": "markdown",
   "metadata": {},
   "source": [
    "### 7.2 Conversion efficiency per mode"
   ]
  },
  {
   "cell_type": "markdown",
   "metadata": {},
   "source": [
    "For each input mode found using the different technique, \n",
    "compute the energy that couples to the corresponding group of degenerate modes\n",
    "found using Comsol."
   ]
  },
  {
   "cell_type": "code",
   "execution_count": null,
   "metadata": {},
   "outputs": [],
   "source": [
    "Proj_as = np.sqrt(np.sum( np.abs(A_as*mask_degenerate)**2, axis = 1))\n",
    "Proj_eig = np.sqrt(np.sum( np.abs(A_eig*mask_degenerate)**2, axis = 1))\n",
    "Proj_wkb = np.sqrt(np.sum( np.abs(A_wkb*mask_degenerate)**2, axis = 1))\n",
    "\n",
    "plt.figure()\n",
    "plt.plot(100*Proj_as, label = 'Assymmetric solver')\n",
    "plt.plot(100*Proj_eig, label = '2D eigenvalue solver')\n",
    "plt.plot(100*Proj_wkb, label = 'WKB')\n",
    "plt.ylabel('Conversion efficiency')\n",
    "plt.xlabel('Modes')\n",
    "plt.legend()\n",
    "yticks = np.linspace(95,100,6)\n",
    "plt.yticks(yticks, [f'{y:g}%' for y in yticks])\n",
    "plt.title('Conversion efficiency onto the mode\\n basis computed with Comsol')\n",
    "plt.tight_layout()"
   ]
  },
  {
   "cell_type": "markdown",
   "metadata": {},
   "source": [
    "### 7.3 Global conversion losses"
   ]
  },
  {
   "cell_type": "markdown",
   "metadata": {},
   "source": [
    "We compute the singular value decomposition of the conversion matrix between the modes found using Comsol\n",
    "and using the pyMMF solvers $M_\\text{cs}^\\dagger . M_\\text{pyMMF}$. \n",
    "Ideally, if two bases represent the same subspace, the conversion matrix has to be unitary, \n",
    "i.e. all its singular values are equal to one."
   ]
  },
  {
   "cell_type": "code",
   "execution_count": null,
   "metadata": {},
   "outputs": [],
   "source": [
    "_,s_as,_ = np.linalg.svd(A_as)\n",
    "_,s_eig,_ = np.linalg.svd(A_eig)\n",
    "_,s_wkb,_ = np.linalg.svd(A_wkb)\n",
    "plt.figure(figsize = (10,6))\n",
    "plt.plot(np.sort(np.abs(s_as)), label = 'axisymmetric solver')\n",
    "plt.plot(np.sort(np.abs(s_eig)), label = '2D eigenvalue solver')\n",
    "plt.plot(np.sort(np.abs(s_wkb)), label = 'WKB')\n",
    "plt.ylim([0.5, 1.1])\n",
    "plt.legend()\n",
    "plt.title('Singular values of conversion matrices')"
   ]
  }
 ],
 "metadata": {
  "kernelspec": {
   "display_name": "Python 3",
   "language": "python",
   "name": "python3"
  },
  "language_info": {
   "codemirror_mode": {
    "name": "ipython",
    "version": 3
   },
   "file_extension": ".py",
   "mimetype": "text/x-python",
   "name": "python",
   "nbconvert_exporter": "python",
   "pygments_lexer": "ipython3",
   "version": "3.6.8"
  }
 },
 "nbformat": 4,
 "nbformat_minor": 4
}
