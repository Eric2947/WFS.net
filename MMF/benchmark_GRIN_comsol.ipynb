{
 "cells": [
  {
   "cell_type": "code",
   "execution_count": 1,
   "metadata": {},
   "outputs": [],
   "source": [
    "from scipy.io import loadmat\n",
    "import matplotlib.pyplot as plt\n",
    "import numpy as np\n",
    "import scipy\n",
    "import pyMMF\n",
    "\n",
    "%matplotlib widget\n",
    "\n",
    "SMALL_SIZE = 16\n",
    "MEDIUM_SIZE = 16\n",
    "BIGGER_SIZE = 18\n",
    "\n",
    "plt.rcParams.update({'font.size': MEDIUM_SIZE})\n",
    "plt.rc('font', size=SMALL_SIZE)          # controls default text sizes\n",
    "plt.rc('axes', titlesize=SMALL_SIZE)     # fontsize of the axes title\n",
    "plt.rc('axes', labelsize=MEDIUM_SIZE)    # fontsize of the x and y labels\n",
    "plt.rc('xtick', labelsize=SMALL_SIZE)    # fontsize of the tick labels\n",
    "plt.rc('ytick', labelsize=SMALL_SIZE)    # fontsize of the tick labels\n",
    "plt.rc('legend', fontsize=SMALL_SIZE)    # legend fontsize\n",
    "plt.rc('figure', titlesize=BIGGER_SIZE)  # fontsize of the figure title"
   ]
  },
  {
   "cell_type": "markdown",
   "metadata": {},
   "source": [
    "## 1. Parameters of the fiber\n",
    "Comsol simulation were done using those same parameters"
   ]
  },
  {
   "cell_type": "code",
   "execution_count": 2,
   "metadata": {},
   "outputs": [],
   "source": [
    "NA = 0.2\n",
    "radius = 25 # in microns\n",
    "areaSize = 2.4*radius # calculate the field on an area larger than the diameter of the fiber\n",
    "npoints = 2**7 # resolution of the window\n",
    "n1 = 1.45\n",
    "wl = 1.55 # wavelength in microns\n",
    "curvature = None\n",
    "k0 = 2.*np.pi/wl\n",
    "\n",
    "\n",
    "r_max = 3.2*radius\n",
    "npoints_search = 2**8\n",
    "dh = 2*radius/npoints_search"
   ]
  },
  {
   "cell_type": "markdown",
   "metadata": {},
   "source": [
    "## 2. Compute transverse modes using pyMMF's axisymmetric solver"
   ]
  },
  {
   "cell_type": "code",
   "execution_count": 3,
   "metadata": {},
   "outputs": [],
   "source": [
    "profile = pyMMF.IndexProfile(npoints = npoints, areaSize = areaSize)\n",
    "profile.initParabolicGRIN(n1=n1,a=radius,NA=NA)"
   ]
  },
  {
   "cell_type": "code",
   "execution_count": 4,
   "metadata": {},
   "outputs": [
    {
     "data": {
      "application/vnd.jupyter.widget-view+json": {
       "model_id": "2d5bbb09a18741939d94634815012d09",
       "version_major": 2,
       "version_minor": 0
      },
      "text/plain": [
       "Canvas(toolbar=Toolbar(toolitems=[('Home', 'Reset original view', 'home', 'home'), ('Back', 'Back to previous …"
      ]
     },
     "metadata": {},
     "output_type": "display_data"
    },
    {
     "data": {
      "text/plain": [
       "<matplotlib.colorbar.Colorbar at 0x7f7fae399908>"
      ]
     },
     "execution_count": 4,
     "metadata": {},
     "output_type": "execute_result"
    }
   ],
   "source": [
    "plt.figure()\n",
    "plt.imshow(profile.n.reshape([npoints]*2))\n",
    "plt.title(r'Index porfile')\n",
    "plt.axis('off')\n",
    "plt.colorbar()"
   ]
  },
  {
   "cell_type": "code",
   "execution_count": 5,
   "metadata": {
    "collapsed": true,
    "jupyter": {
     "outputs_hidden": true
    }
   },
   "outputs": [
    {
     "name": "stderr",
     "output_type": "stream",
     "text": [
      "2020-10-30 18:01:04,224 - pyMMF.core [DEBUG  ]  Debug mode ON.\n",
      "2020-10-30 18:01:04,244 - pyMMF.solv [INFO   ]  Found 5 radial mode(s) for m=0\n",
      "2020-10-30 18:01:04,245 - pyMMF.solv [INFO   ]  Searching propagation constant for |l| = 0\n",
      "2020-10-30 18:01:04,249 - pyMMF.solv [INFO   ]  Searching propagation constant for |l| = 1\n",
      "2020-10-30 18:01:04,326 - pyMMF.solv [WARNING]  maximum recursion depth exceeded\n",
      "2020-10-30 18:01:04,326 - pyMMF.solv [WARNING]  Boundary condition could not be met.\n",
      "2020-10-30 18:01:04,326 - pyMMF.solv [WARNING]  Retrying by changing r_max to 3.03a\n",
      "2020-10-30 18:01:04,388 - pyMMF.solv [WARNING]  maximum recursion depth exceeded\n",
      "2020-10-30 18:01:04,389 - pyMMF.solv [WARNING]  Boundary condition could not be met.\n",
      "2020-10-30 18:01:04,390 - pyMMF.solv [WARNING]  Retrying by changing r_max to 2.88a\n",
      "2020-10-30 18:01:04,457 - pyMMF.solv [WARNING]  maximum recursion depth exceeded\n",
      "2020-10-30 18:01:04,457 - pyMMF.solv [WARNING]  Boundary condition could not be met.\n",
      "2020-10-30 18:01:04,458 - pyMMF.solv [WARNING]  Retrying by changing r_max to 2.74a\n",
      "2020-10-30 18:01:04,517 - pyMMF.solv [WARNING]  maximum recursion depth exceeded\n",
      "2020-10-30 18:01:04,518 - pyMMF.solv [WARNING]  Boundary condition could not be met.\n",
      "2020-10-30 18:01:04,518 - pyMMF.solv [WARNING]  Retrying by changing r_max to 2.60a\n",
      "2020-10-30 18:01:04,582 - pyMMF.solv [WARNING]  maximum recursion depth exceeded\n",
      "2020-10-30 18:01:04,583 - pyMMF.solv [WARNING]  Boundary condition could not be met.\n",
      "2020-10-30 18:01:04,583 - pyMMF.solv [WARNING]  Retrying by changing r_max to 2.47a\n",
      "2020-10-30 18:01:04,659 - pyMMF.solv [WARNING]  maximum recursion depth exceeded\n",
      "2020-10-30 18:01:04,659 - pyMMF.solv [WARNING]  Boundary condition could not be met.\n",
      "2020-10-30 18:01:04,660 - pyMMF.solv [WARNING]  Retrying by changing r_max to 2.35a\n",
      "2020-10-30 18:01:04,665 - pyMMF.solv [INFO   ]  Searching propagation constant for |l| = 2\n",
      "2020-10-30 18:01:04,727 - pyMMF.solv [WARNING]  maximum recursion depth exceeded\n",
      "2020-10-30 18:01:04,727 - pyMMF.solv [WARNING]  Boundary condition could not be met.\n",
      "2020-10-30 18:01:04,728 - pyMMF.solv [WARNING]  Retrying by changing r_max to 3.03a\n",
      "2020-10-30 18:01:04,788 - pyMMF.solv [WARNING]  maximum recursion depth exceeded\n",
      "2020-10-30 18:01:04,789 - pyMMF.solv [WARNING]  Boundary condition could not be met.\n",
      "2020-10-30 18:01:04,789 - pyMMF.solv [WARNING]  Retrying by changing r_max to 2.88a\n",
      "2020-10-30 18:01:04,851 - pyMMF.solv [WARNING]  maximum recursion depth exceeded\n",
      "2020-10-30 18:01:04,852 - pyMMF.solv [WARNING]  Boundary condition could not be met.\n",
      "2020-10-30 18:01:04,852 - pyMMF.solv [WARNING]  Retrying by changing r_max to 2.74a\n",
      "2020-10-30 18:01:04,923 - pyMMF.solv [WARNING]  maximum recursion depth exceeded\n",
      "2020-10-30 18:01:04,923 - pyMMF.solv [WARNING]  Boundary condition could not be met.\n",
      "2020-10-30 18:01:04,924 - pyMMF.solv [WARNING]  Retrying by changing r_max to 2.60a\n",
      "2020-10-30 18:01:05,032 - pyMMF.solv [WARNING]  maximum recursion depth exceeded\n",
      "2020-10-30 18:01:05,033 - pyMMF.solv [WARNING]  Boundary condition could not be met.\n",
      "2020-10-30 18:01:05,033 - pyMMF.solv [WARNING]  Retrying by changing r_max to 2.47a\n",
      "2020-10-30 18:01:05,103 - pyMMF.solv [WARNING]  maximum recursion depth exceeded\n",
      "2020-10-30 18:01:05,104 - pyMMF.solv [WARNING]  Boundary condition could not be met.\n",
      "2020-10-30 18:01:05,104 - pyMMF.solv [WARNING]  Retrying by changing r_max to 2.35a\n",
      "2020-10-30 18:01:05,167 - pyMMF.solv [WARNING]  maximum recursion depth exceeded\n",
      "2020-10-30 18:01:05,168 - pyMMF.solv [WARNING]  Boundary condition could not be met.\n",
      "2020-10-30 18:01:05,168 - pyMMF.solv [WARNING]  Retrying by changing r_max to 2.23a\n",
      "2020-10-30 18:01:05,225 - pyMMF.solv [WARNING]  maximum recursion depth exceeded\n",
      "2020-10-30 18:01:05,226 - pyMMF.solv [WARNING]  Boundary condition could not be met.\n",
      "2020-10-30 18:01:05,226 - pyMMF.solv [WARNING]  Retrying by changing r_max to 2.12a\n",
      "2020-10-30 18:01:05,285 - pyMMF.solv [WARNING]  maximum recursion depth exceeded\n",
      "2020-10-30 18:01:05,286 - pyMMF.solv [WARNING]  Boundary condition could not be met.\n",
      "2020-10-30 18:01:05,286 - pyMMF.solv [WARNING]  Retrying by changing r_max to 2.01a\n",
      "2020-10-30 18:01:05,292 - pyMMF.solv [INFO   ]  Searching propagation constant for |l| = 3\n",
      "2020-10-30 18:01:05,357 - pyMMF.solv [WARNING]  maximum recursion depth exceeded\n",
      "2020-10-30 18:01:05,358 - pyMMF.solv [WARNING]  Boundary condition could not be met.\n",
      "2020-10-30 18:01:05,358 - pyMMF.solv [WARNING]  Retrying by changing r_max to 3.03a\n",
      "2020-10-30 18:01:05,426 - pyMMF.solv [WARNING]  maximum recursion depth exceeded\n",
      "2020-10-30 18:01:05,426 - pyMMF.solv [WARNING]  Boundary condition could not be met.\n",
      "2020-10-30 18:01:05,427 - pyMMF.solv [WARNING]  Retrying by changing r_max to 2.88a\n",
      "2020-10-30 18:01:05,490 - pyMMF.solv [WARNING]  maximum recursion depth exceeded\n",
      "2020-10-30 18:01:05,491 - pyMMF.solv [WARNING]  Boundary condition could not be met.\n",
      "2020-10-30 18:01:05,491 - pyMMF.solv [WARNING]  Retrying by changing r_max to 2.74a\n",
      "2020-10-30 18:01:05,557 - pyMMF.solv [WARNING]  maximum recursion depth exceeded\n",
      "2020-10-30 18:01:05,557 - pyMMF.solv [WARNING]  Boundary condition could not be met.\n",
      "2020-10-30 18:01:05,558 - pyMMF.solv [WARNING]  Retrying by changing r_max to 2.60a\n",
      "2020-10-30 18:01:05,635 - pyMMF.solv [WARNING]  maximum recursion depth exceeded\n",
      "2020-10-30 18:01:05,636 - pyMMF.solv [WARNING]  Boundary condition could not be met.\n",
      "2020-10-30 18:01:05,636 - pyMMF.solv [WARNING]  Retrying by changing r_max to 2.47a\n",
      "2020-10-30 18:01:05,705 - pyMMF.solv [WARNING]  maximum recursion depth exceeded\n",
      "2020-10-30 18:01:05,705 - pyMMF.solv [WARNING]  Boundary condition could not be met.\n",
      "2020-10-30 18:01:05,706 - pyMMF.solv [WARNING]  Retrying by changing r_max to 2.35a\n",
      "2020-10-30 18:01:05,773 - pyMMF.solv [WARNING]  maximum recursion depth exceeded\n",
      "2020-10-30 18:01:05,774 - pyMMF.solv [WARNING]  Boundary condition could not be met.\n",
      "2020-10-30 18:01:05,774 - pyMMF.solv [WARNING]  Retrying by changing r_max to 2.23a\n",
      "2020-10-30 18:01:05,845 - pyMMF.solv [WARNING]  maximum recursion depth exceeded\n",
      "2020-10-30 18:01:05,845 - pyMMF.solv [WARNING]  Boundary condition could not be met.\n",
      "2020-10-30 18:01:05,846 - pyMMF.solv [WARNING]  Retrying by changing r_max to 2.12a\n",
      "2020-10-30 18:01:05,929 - pyMMF.solv [WARNING]  maximum recursion depth exceeded\n",
      "2020-10-30 18:01:05,930 - pyMMF.solv [WARNING]  Boundary condition could not be met.\n",
      "2020-10-30 18:01:05,930 - pyMMF.solv [WARNING]  Retrying by changing r_max to 2.01a\n",
      "2020-10-30 18:01:06,001 - pyMMF.solv [WARNING]  maximum recursion depth exceeded\n",
      "2020-10-30 18:01:06,002 - pyMMF.solv [WARNING]  Boundary condition could not be met.\n",
      "2020-10-30 18:01:06,003 - pyMMF.solv [WARNING]  Retrying by changing r_max to 1.91a\n",
      "2020-10-30 18:01:06,077 - pyMMF.solv [WARNING]  maximum recursion depth exceeded\n",
      "2020-10-30 18:01:06,077 - pyMMF.solv [WARNING]  Boundary condition could not be met.\n",
      "2020-10-30 18:01:06,078 - pyMMF.solv [WARNING]  Retrying by changing r_max to 1.82a\n",
      "2020-10-30 18:01:06,082 - pyMMF.solv [INFO   ]  Searching propagation constant for |l| = 4\n",
      "2020-10-30 18:01:06,149 - pyMMF.solv [WARNING]  maximum recursion depth exceeded\n",
      "2020-10-30 18:01:06,150 - pyMMF.solv [WARNING]  Boundary condition could not be met.\n",
      "2020-10-30 18:01:06,151 - pyMMF.solv [WARNING]  Retrying by changing r_max to 3.03a\n",
      "2020-10-30 18:01:06,216 - pyMMF.solv [WARNING]  maximum recursion depth exceeded\n",
      "2020-10-30 18:01:06,217 - pyMMF.solv [WARNING]  Boundary condition could not be met.\n",
      "2020-10-30 18:01:06,218 - pyMMF.solv [WARNING]  Retrying by changing r_max to 2.88a\n",
      "2020-10-30 18:01:06,292 - pyMMF.solv [WARNING]  maximum recursion depth exceeded\n",
      "2020-10-30 18:01:06,292 - pyMMF.solv [WARNING]  Boundary condition could not be met.\n",
      "2020-10-30 18:01:06,293 - pyMMF.solv [WARNING]  Retrying by changing r_max to 2.74a\n",
      "2020-10-30 18:01:06,359 - pyMMF.solv [WARNING]  maximum recursion depth exceeded\n",
      "2020-10-30 18:01:06,359 - pyMMF.solv [WARNING]  Boundary condition could not be met.\n",
      "2020-10-30 18:01:06,360 - pyMMF.solv [WARNING]  Retrying by changing r_max to 2.60a\n",
      "2020-10-30 18:01:06,422 - pyMMF.solv [WARNING]  maximum recursion depth exceeded\n",
      "2020-10-30 18:01:06,423 - pyMMF.solv [WARNING]  Boundary condition could not be met.\n",
      "2020-10-30 18:01:06,423 - pyMMF.solv [WARNING]  Retrying by changing r_max to 2.47a\n",
      "2020-10-30 18:01:06,485 - pyMMF.solv [WARNING]  maximum recursion depth exceeded\n",
      "2020-10-30 18:01:06,486 - pyMMF.solv [WARNING]  Boundary condition could not be met.\n",
      "2020-10-30 18:01:06,486 - pyMMF.solv [WARNING]  Retrying by changing r_max to 2.35a\n",
      "2020-10-30 18:01:06,556 - pyMMF.solv [WARNING]  maximum recursion depth exceeded\n",
      "2020-10-30 18:01:06,557 - pyMMF.solv [WARNING]  Boundary condition could not be met.\n",
      "2020-10-30 18:01:06,557 - pyMMF.solv [WARNING]  Retrying by changing r_max to 2.23a\n",
      "2020-10-30 18:01:06,637 - pyMMF.solv [WARNING]  maximum recursion depth exceeded\n",
      "2020-10-30 18:01:06,637 - pyMMF.solv [WARNING]  Boundary condition could not be met.\n",
      "2020-10-30 18:01:06,638 - pyMMF.solv [WARNING]  Retrying by changing r_max to 2.12a\n",
      "2020-10-30 18:01:06,705 - pyMMF.solv [WARNING]  maximum recursion depth exceeded\n",
      "2020-10-30 18:01:06,706 - pyMMF.solv [WARNING]  Boundary condition could not be met.\n",
      "2020-10-30 18:01:06,706 - pyMMF.solv [WARNING]  Retrying by changing r_max to 2.01a\n",
      "2020-10-30 18:01:06,812 - pyMMF.solv [WARNING]  maximum recursion depth exceeded\n",
      "2020-10-30 18:01:06,812 - pyMMF.solv [WARNING]  Boundary condition could not be met.\n",
      "2020-10-30 18:01:06,813 - pyMMF.solv [WARNING]  Retrying by changing r_max to 1.91a\n",
      "2020-10-30 18:01:06,886 - pyMMF.solv [WARNING]  maximum recursion depth exceeded\n",
      "2020-10-30 18:01:06,886 - pyMMF.solv [WARNING]  Boundary condition could not be met.\n",
      "2020-10-30 18:01:06,887 - pyMMF.solv [WARNING]  Retrying by changing r_max to 1.82a\n",
      "2020-10-30 18:01:06,961 - pyMMF.solv [WARNING]  maximum recursion depth exceeded\n",
      "2020-10-30 18:01:06,961 - pyMMF.solv [WARNING]  Boundary condition could not be met.\n",
      "2020-10-30 18:01:06,964 - pyMMF.solv [WARNING]  Retrying by changing r_max to 1.72a\n",
      "2020-10-30 18:01:07,040 - pyMMF.solv [WARNING]  maximum recursion depth exceeded\n",
      "2020-10-30 18:01:07,041 - pyMMF.solv [WARNING]  Boundary condition could not be met.\n",
      "2020-10-30 18:01:07,041 - pyMMF.solv [WARNING]  Retrying by changing r_max to 1.64a\n",
      "2020-10-30 18:01:07,118 - pyMMF.solv [WARNING]  maximum recursion depth exceeded\n",
      "2020-10-30 18:01:07,119 - pyMMF.solv [WARNING]  Boundary condition could not be met.\n",
      "2020-10-30 18:01:07,120 - pyMMF.solv [WARNING]  Retrying by changing r_max to 1.56a\n",
      "2020-10-30 18:01:07,135 - pyMMF.solv [INFO   ]  Found 5 radial mode(s) for m=1\n",
      "2020-10-30 18:01:07,136 - pyMMF.solv [INFO   ]  Searching propagation constant for |l| = 0\n",
      "2020-10-30 18:01:07,141 - pyMMF.solv [INFO   ]  Searching propagation constant for |l| = 1\n",
      "2020-10-30 18:01:07,205 - pyMMF.solv [WARNING]  maximum recursion depth exceeded\n",
      "2020-10-30 18:01:07,206 - pyMMF.solv [WARNING]  Boundary condition could not be met.\n",
      "2020-10-30 18:01:07,207 - pyMMF.solv [WARNING]  Retrying by changing r_max to 3.03a\n",
      "2020-10-30 18:01:07,279 - pyMMF.solv [WARNING]  maximum recursion depth exceeded\n",
      "2020-10-30 18:01:07,280 - pyMMF.solv [WARNING]  Boundary condition could not be met.\n",
      "2020-10-30 18:01:07,280 - pyMMF.solv [WARNING]  Retrying by changing r_max to 2.88a\n",
      "2020-10-30 18:01:07,286 - pyMMF.solv [INFO   ]  Searching propagation constant for |l| = 2\n",
      "2020-10-30 18:01:07,371 - pyMMF.solv [WARNING]  maximum recursion depth exceeded\n",
      "2020-10-30 18:01:07,372 - pyMMF.solv [WARNING]  Boundary condition could not be met.\n",
      "2020-10-30 18:01:07,372 - pyMMF.solv [WARNING]  Retrying by changing r_max to 3.03a\n",
      "2020-10-30 18:01:07,440 - pyMMF.solv [WARNING]  maximum recursion depth exceeded\n",
      "2020-10-30 18:01:07,440 - pyMMF.solv [WARNING]  Boundary condition could not be met.\n",
      "2020-10-30 18:01:07,441 - pyMMF.solv [WARNING]  Retrying by changing r_max to 2.88a\n",
      "2020-10-30 18:01:07,503 - pyMMF.solv [WARNING]  maximum recursion depth exceeded\n",
      "2020-10-30 18:01:07,503 - pyMMF.solv [WARNING]  Boundary condition could not be met.\n",
      "2020-10-30 18:01:07,504 - pyMMF.solv [WARNING]  Retrying by changing r_max to 2.74a\n",
      "2020-10-30 18:01:07,565 - pyMMF.solv [WARNING]  maximum recursion depth exceeded\n",
      "2020-10-30 18:01:07,565 - pyMMF.solv [WARNING]  Boundary condition could not be met.\n",
      "2020-10-30 18:01:07,566 - pyMMF.solv [WARNING]  Retrying by changing r_max to 2.60a\n",
      "2020-10-30 18:01:07,653 - pyMMF.solv [WARNING]  maximum recursion depth exceeded\n",
      "2020-10-30 18:01:07,653 - pyMMF.solv [WARNING]  Boundary condition could not be met.\n",
      "2020-10-30 18:01:07,654 - pyMMF.solv [WARNING]  Retrying by changing r_max to 2.47a\n",
      "2020-10-30 18:01:07,727 - pyMMF.solv [WARNING]  maximum recursion depth exceeded\n",
      "2020-10-30 18:01:07,727 - pyMMF.solv [WARNING]  Boundary condition could not be met.\n",
      "2020-10-30 18:01:07,728 - pyMMF.solv [WARNING]  Retrying by changing r_max to 2.35a\n",
      "2020-10-30 18:01:07,795 - pyMMF.solv [WARNING]  maximum recursion depth exceeded\n",
      "2020-10-30 18:01:07,795 - pyMMF.solv [WARNING]  Boundary condition could not be met.\n",
      "2020-10-30 18:01:07,796 - pyMMF.solv [WARNING]  Retrying by changing r_max to 2.23a\n",
      "2020-10-30 18:01:07,802 - pyMMF.solv [INFO   ]  Searching propagation constant for |l| = 3\n",
      "2020-10-30 18:01:07,867 - pyMMF.solv [WARNING]  maximum recursion depth exceeded\n",
      "2020-10-30 18:01:07,868 - pyMMF.solv [WARNING]  Boundary condition could not be met.\n",
      "2020-10-30 18:01:07,868 - pyMMF.solv [WARNING]  Retrying by changing r_max to 3.03a\n",
      "2020-10-30 18:01:07,933 - pyMMF.solv [WARNING]  maximum recursion depth exceeded\n",
      "2020-10-30 18:01:07,934 - pyMMF.solv [WARNING]  Boundary condition could not be met.\n",
      "2020-10-30 18:01:07,934 - pyMMF.solv [WARNING]  Retrying by changing r_max to 2.88a\n",
      "2020-10-30 18:01:07,996 - pyMMF.solv [WARNING]  maximum recursion depth exceeded\n",
      "2020-10-30 18:01:07,997 - pyMMF.solv [WARNING]  Boundary condition could not be met.\n",
      "2020-10-30 18:01:07,998 - pyMMF.solv [WARNING]  Retrying by changing r_max to 2.74a\n",
      "2020-10-30 18:01:08,066 - pyMMF.solv [WARNING]  maximum recursion depth exceeded\n",
      "2020-10-30 18:01:08,067 - pyMMF.solv [WARNING]  Boundary condition could not be met.\n",
      "2020-10-30 18:01:08,067 - pyMMF.solv [WARNING]  Retrying by changing r_max to 2.60a\n",
      "2020-10-30 18:01:08,137 - pyMMF.solv [WARNING]  maximum recursion depth exceeded\n",
      "2020-10-30 18:01:08,138 - pyMMF.solv [WARNING]  Boundary condition could not be met.\n",
      "2020-10-30 18:01:08,139 - pyMMF.solv [WARNING]  Retrying by changing r_max to 2.47a\n",
      "2020-10-30 18:01:08,212 - pyMMF.solv [WARNING]  maximum recursion depth exceeded\n",
      "2020-10-30 18:01:08,212 - pyMMF.solv [WARNING]  Boundary condition could not be met.\n",
      "2020-10-30 18:01:08,213 - pyMMF.solv [WARNING]  Retrying by changing r_max to 2.35a\n",
      "2020-10-30 18:01:08,287 - pyMMF.solv [WARNING]  maximum recursion depth exceeded\n",
      "2020-10-30 18:01:08,288 - pyMMF.solv [WARNING]  Boundary condition could not be met.\n",
      "2020-10-30 18:01:08,288 - pyMMF.solv [WARNING]  Retrying by changing r_max to 2.23a\n",
      "2020-10-30 18:01:08,409 - pyMMF.solv [WARNING]  maximum recursion depth exceeded\n",
      "2020-10-30 18:01:08,410 - pyMMF.solv [WARNING]  Boundary condition could not be met.\n",
      "2020-10-30 18:01:08,411 - pyMMF.solv [WARNING]  Retrying by changing r_max to 2.12a\n",
      "2020-10-30 18:01:08,481 - pyMMF.solv [WARNING]  maximum recursion depth exceeded\n",
      "2020-10-30 18:01:08,481 - pyMMF.solv [WARNING]  Boundary condition could not be met.\n",
      "2020-10-30 18:01:08,482 - pyMMF.solv [WARNING]  Retrying by changing r_max to 2.01a\n",
      "2020-10-30 18:01:08,555 - pyMMF.solv [WARNING]  maximum recursion depth exceeded\n",
      "2020-10-30 18:01:08,556 - pyMMF.solv [WARNING]  Boundary condition could not be met.\n",
      "2020-10-30 18:01:08,556 - pyMMF.solv [WARNING]  Retrying by changing r_max to 1.91a\n",
      "2020-10-30 18:01:08,561 - pyMMF.solv [INFO   ]  Searching propagation constant for |l| = 4\n",
      "2020-10-30 18:01:08,627 - pyMMF.solv [WARNING]  maximum recursion depth exceeded\n",
      "2020-10-30 18:01:08,628 - pyMMF.solv [WARNING]  Boundary condition could not be met.\n",
      "2020-10-30 18:01:08,628 - pyMMF.solv [WARNING]  Retrying by changing r_max to 3.03a\n",
      "2020-10-30 18:01:08,695 - pyMMF.solv [WARNING]  maximum recursion depth exceeded\n",
      "2020-10-30 18:01:08,695 - pyMMF.solv [WARNING]  Boundary condition could not be met.\n",
      "2020-10-30 18:01:08,696 - pyMMF.solv [WARNING]  Retrying by changing r_max to 2.88a\n",
      "2020-10-30 18:01:08,773 - pyMMF.solv [WARNING]  maximum recursion depth exceeded\n",
      "2020-10-30 18:01:08,774 - pyMMF.solv [WARNING]  Boundary condition could not be met.\n",
      "2020-10-30 18:01:08,774 - pyMMF.solv [WARNING]  Retrying by changing r_max to 2.74a\n",
      "2020-10-30 18:01:08,843 - pyMMF.solv [WARNING]  maximum recursion depth exceeded\n",
      "2020-10-30 18:01:08,844 - pyMMF.solv [WARNING]  Boundary condition could not be met.\n",
      "2020-10-30 18:01:08,844 - pyMMF.solv [WARNING]  Retrying by changing r_max to 2.60a\n",
      "2020-10-30 18:01:08,910 - pyMMF.solv [WARNING]  maximum recursion depth exceeded\n",
      "2020-10-30 18:01:08,911 - pyMMF.solv [WARNING]  Boundary condition could not be met.\n",
      "2020-10-30 18:01:08,911 - pyMMF.solv [WARNING]  Retrying by changing r_max to 2.47a\n",
      "2020-10-30 18:01:08,981 - pyMMF.solv [WARNING]  maximum recursion depth exceeded\n",
      "2020-10-30 18:01:08,982 - pyMMF.solv [WARNING]  Boundary condition could not be met.\n",
      "2020-10-30 18:01:08,982 - pyMMF.solv [WARNING]  Retrying by changing r_max to 2.35a\n",
      "2020-10-30 18:01:09,057 - pyMMF.solv [WARNING]  maximum recursion depth exceeded\n",
      "2020-10-30 18:01:09,058 - pyMMF.solv [WARNING]  Boundary condition could not be met.\n",
      "2020-10-30 18:01:09,058 - pyMMF.solv [WARNING]  Retrying by changing r_max to 2.23a\n",
      "2020-10-30 18:01:09,119 - pyMMF.solv [WARNING]  maximum recursion depth exceeded\n",
      "2020-10-30 18:01:09,120 - pyMMF.solv [WARNING]  Boundary condition could not be met.\n",
      "2020-10-30 18:01:09,120 - pyMMF.solv [WARNING]  Retrying by changing r_max to 2.12a\n",
      "2020-10-30 18:01:09,192 - pyMMF.solv [WARNING]  maximum recursion depth exceeded\n",
      "2020-10-30 18:01:09,192 - pyMMF.solv [WARNING]  Boundary condition could not be met.\n",
      "2020-10-30 18:01:09,193 - pyMMF.solv [WARNING]  Retrying by changing r_max to 2.01a\n",
      "2020-10-30 18:01:09,285 - pyMMF.solv [WARNING]  maximum recursion depth exceeded\n",
      "2020-10-30 18:01:09,286 - pyMMF.solv [WARNING]  Boundary condition could not be met.\n",
      "2020-10-30 18:01:09,287 - pyMMF.solv [WARNING]  Retrying by changing r_max to 1.91a\n",
      "2020-10-30 18:01:09,379 - pyMMF.solv [WARNING]  maximum recursion depth exceeded\n",
      "2020-10-30 18:01:09,379 - pyMMF.solv [WARNING]  Boundary condition could not be met.\n",
      "2020-10-30 18:01:09,380 - pyMMF.solv [WARNING]  Retrying by changing r_max to 1.82a\n",
      "2020-10-30 18:01:09,440 - pyMMF.solv [WARNING]  maximum recursion depth exceeded\n",
      "2020-10-30 18:01:09,441 - pyMMF.solv [WARNING]  Boundary condition could not be met.\n",
      "2020-10-30 18:01:09,441 - pyMMF.solv [WARNING]  Retrying by changing r_max to 1.72a\n",
      "2020-10-30 18:01:09,509 - pyMMF.solv [WARNING]  maximum recursion depth exceeded\n",
      "2020-10-30 18:01:09,509 - pyMMF.solv [WARNING]  Boundary condition could not be met.\n",
      "2020-10-30 18:01:09,510 - pyMMF.solv [WARNING]  Retrying by changing r_max to 1.64a\n",
      "2020-10-30 18:01:09,574 - pyMMF.solv [WARNING]  maximum recursion depth exceeded\n",
      "2020-10-30 18:01:09,574 - pyMMF.solv [WARNING]  Boundary condition could not be met.\n",
      "2020-10-30 18:01:09,575 - pyMMF.solv [WARNING]  Retrying by changing r_max to 1.56a\n",
      "2020-10-30 18:01:09,594 - pyMMF.solv [INFO   ]  Found 4 radial mode(s) for m=2\n",
      "2020-10-30 18:01:09,595 - pyMMF.solv [INFO   ]  Searching propagation constant for |l| = 0\n",
      "2020-10-30 18:01:09,601 - pyMMF.solv [INFO   ]  Searching propagation constant for |l| = 1\n",
      "2020-10-30 18:01:09,670 - pyMMF.solv [WARNING]  maximum recursion depth exceeded\n",
      "2020-10-30 18:01:09,671 - pyMMF.solv [WARNING]  Boundary condition could not be met.\n",
      "2020-10-30 18:01:09,671 - pyMMF.solv [WARNING]  Retrying by changing r_max to 3.03a\n",
      "2020-10-30 18:01:09,792 - pyMMF.solv [WARNING]  maximum recursion depth exceeded\n",
      "2020-10-30 18:01:09,792 - pyMMF.solv [WARNING]  Boundary condition could not be met.\n",
      "2020-10-30 18:01:09,793 - pyMMF.solv [WARNING]  Retrying by changing r_max to 2.88a\n",
      "2020-10-30 18:01:09,871 - pyMMF.solv [WARNING]  maximum recursion depth exceeded\n",
      "2020-10-30 18:01:09,871 - pyMMF.solv [WARNING]  Boundary condition could not be met.\n",
      "2020-10-30 18:01:09,872 - pyMMF.solv [WARNING]  Retrying by changing r_max to 2.74a\n",
      "2020-10-30 18:01:09,937 - pyMMF.solv [WARNING]  maximum recursion depth exceeded\n",
      "2020-10-30 18:01:09,938 - pyMMF.solv [WARNING]  Boundary condition could not be met.\n",
      "2020-10-30 18:01:09,938 - pyMMF.solv [WARNING]  Retrying by changing r_max to 2.60a\n",
      "2020-10-30 18:01:10,013 - pyMMF.solv [WARNING]  maximum recursion depth exceeded\n",
      "2020-10-30 18:01:10,014 - pyMMF.solv [WARNING]  Boundary condition could not be met.\n",
      "2020-10-30 18:01:10,014 - pyMMF.solv [WARNING]  Retrying by changing r_max to 2.47a\n",
      "2020-10-30 18:01:10,081 - pyMMF.solv [WARNING]  maximum recursion depth exceeded\n",
      "2020-10-30 18:01:10,081 - pyMMF.solv [WARNING]  Boundary condition could not be met.\n",
      "2020-10-30 18:01:10,082 - pyMMF.solv [WARNING]  Retrying by changing r_max to 2.35a\n",
      "2020-10-30 18:01:10,088 - pyMMF.solv [INFO   ]  Searching propagation constant for |l| = 2\n",
      "2020-10-30 18:01:10,157 - pyMMF.solv [WARNING]  maximum recursion depth exceeded\n",
      "2020-10-30 18:01:10,158 - pyMMF.solv [WARNING]  Boundary condition could not be met.\n",
      "2020-10-30 18:01:10,158 - pyMMF.solv [WARNING]  Retrying by changing r_max to 3.03a\n",
      "2020-10-30 18:01:10,230 - pyMMF.solv [WARNING]  maximum recursion depth exceeded\n",
      "2020-10-30 18:01:10,231 - pyMMF.solv [WARNING]  Boundary condition could not be met.\n",
      "2020-10-30 18:01:10,231 - pyMMF.solv [WARNING]  Retrying by changing r_max to 2.88a\n",
      "2020-10-30 18:01:10,299 - pyMMF.solv [WARNING]  maximum recursion depth exceeded\n",
      "2020-10-30 18:01:10,299 - pyMMF.solv [WARNING]  Boundary condition could not be met.\n",
      "2020-10-30 18:01:10,300 - pyMMF.solv [WARNING]  Retrying by changing r_max to 2.74a\n",
      "2020-10-30 18:01:10,367 - pyMMF.solv [WARNING]  maximum recursion depth exceeded\n",
      "2020-10-30 18:01:10,368 - pyMMF.solv [WARNING]  Boundary condition could not be met.\n",
      "2020-10-30 18:01:10,368 - pyMMF.solv [WARNING]  Retrying by changing r_max to 2.60a\n",
      "2020-10-30 18:01:10,444 - pyMMF.solv [WARNING]  maximum recursion depth exceeded\n",
      "2020-10-30 18:01:10,445 - pyMMF.solv [WARNING]  Boundary condition could not be met.\n",
      "2020-10-30 18:01:10,445 - pyMMF.solv [WARNING]  Retrying by changing r_max to 2.47a\n",
      "2020-10-30 18:01:10,527 - pyMMF.solv [WARNING]  maximum recursion depth exceeded\n",
      "2020-10-30 18:01:10,527 - pyMMF.solv [WARNING]  Boundary condition could not be met.\n",
      "2020-10-30 18:01:10,528 - pyMMF.solv [WARNING]  Retrying by changing r_max to 2.35a\n",
      "2020-10-30 18:01:10,593 - pyMMF.solv [WARNING]  maximum recursion depth exceeded\n",
      "2020-10-30 18:01:10,594 - pyMMF.solv [WARNING]  Boundary condition could not be met.\n",
      "2020-10-30 18:01:10,594 - pyMMF.solv [WARNING]  Retrying by changing r_max to 2.23a\n",
      "2020-10-30 18:01:10,601 - pyMMF.solv [INFO   ]  Searching propagation constant for |l| = 3\n",
      "2020-10-30 18:01:10,668 - pyMMF.solv [WARNING]  maximum recursion depth exceeded\n",
      "2020-10-30 18:01:10,668 - pyMMF.solv [WARNING]  Boundary condition could not be met.\n",
      "2020-10-30 18:01:10,669 - pyMMF.solv [WARNING]  Retrying by changing r_max to 3.03a\n",
      "2020-10-30 18:01:10,743 - pyMMF.solv [WARNING]  maximum recursion depth exceeded\n",
      "2020-10-30 18:01:10,744 - pyMMF.solv [WARNING]  Boundary condition could not be met.\n",
      "2020-10-30 18:01:10,744 - pyMMF.solv [WARNING]  Retrying by changing r_max to 2.88a\n",
      "2020-10-30 18:01:10,818 - pyMMF.solv [WARNING]  maximum recursion depth exceeded\n",
      "2020-10-30 18:01:10,819 - pyMMF.solv [WARNING]  Boundary condition could not be met.\n",
      "2020-10-30 18:01:10,820 - pyMMF.solv [WARNING]  Retrying by changing r_max to 2.74a\n",
      "2020-10-30 18:01:10,894 - pyMMF.solv [WARNING]  maximum recursion depth exceeded\n",
      "2020-10-30 18:01:10,894 - pyMMF.solv [WARNING]  Boundary condition could not be met.\n",
      "2020-10-30 18:01:10,895 - pyMMF.solv [WARNING]  Retrying by changing r_max to 2.60a\n",
      "2020-10-30 18:01:10,977 - pyMMF.solv [WARNING]  maximum recursion depth exceeded\n",
      "2020-10-30 18:01:10,977 - pyMMF.solv [WARNING]  Boundary condition could not be met.\n",
      "2020-10-30 18:01:10,978 - pyMMF.solv [WARNING]  Retrying by changing r_max to 2.47a\n",
      "2020-10-30 18:01:11,092 - pyMMF.solv [WARNING]  maximum recursion depth exceeded\n",
      "2020-10-30 18:01:11,092 - pyMMF.solv [WARNING]  Boundary condition could not be met.\n",
      "2020-10-30 18:01:11,093 - pyMMF.solv [WARNING]  Retrying by changing r_max to 2.35a\n",
      "2020-10-30 18:01:11,157 - pyMMF.solv [WARNING]  maximum recursion depth exceeded\n",
      "2020-10-30 18:01:11,157 - pyMMF.solv [WARNING]  Boundary condition could not be met.\n",
      "2020-10-30 18:01:11,158 - pyMMF.solv [WARNING]  Retrying by changing r_max to 2.23a\n",
      "2020-10-30 18:01:11,230 - pyMMF.solv [WARNING]  maximum recursion depth exceeded\n",
      "2020-10-30 18:01:11,230 - pyMMF.solv [WARNING]  Boundary condition could not be met.\n",
      "2020-10-30 18:01:11,231 - pyMMF.solv [WARNING]  Retrying by changing r_max to 2.12a\n",
      "2020-10-30 18:01:11,307 - pyMMF.solv [WARNING]  maximum recursion depth exceeded\n",
      "2020-10-30 18:01:11,308 - pyMMF.solv [WARNING]  Boundary condition could not be met.\n",
      "2020-10-30 18:01:11,308 - pyMMF.solv [WARNING]  Retrying by changing r_max to 2.01a\n",
      "2020-10-30 18:01:11,383 - pyMMF.solv [WARNING]  maximum recursion depth exceeded\n",
      "2020-10-30 18:01:11,383 - pyMMF.solv [WARNING]  Boundary condition could not be met.\n",
      "2020-10-30 18:01:11,384 - pyMMF.solv [WARNING]  Retrying by changing r_max to 1.91a\n",
      "2020-10-30 18:01:11,467 - pyMMF.solv [WARNING]  maximum recursion depth exceeded\n",
      "2020-10-30 18:01:11,468 - pyMMF.solv [WARNING]  Boundary condition could not be met.\n",
      "2020-10-30 18:01:11,468 - pyMMF.solv [WARNING]  Retrying by changing r_max to 1.82a\n",
      "2020-10-30 18:01:11,544 - pyMMF.solv [WARNING]  maximum recursion depth exceeded\n",
      "2020-10-30 18:01:11,545 - pyMMF.solv [WARNING]  Boundary condition could not be met.\n",
      "2020-10-30 18:01:11,545 - pyMMF.solv [WARNING]  Retrying by changing r_max to 1.72a\n",
      "2020-10-30 18:01:11,615 - pyMMF.solv [WARNING]  maximum recursion depth exceeded\n",
      "2020-10-30 18:01:11,615 - pyMMF.solv [WARNING]  Boundary condition could not be met.\n",
      "2020-10-30 18:01:11,616 - pyMMF.solv [WARNING]  Retrying by changing r_max to 1.64a\n",
      "2020-10-30 18:01:11,634 - pyMMF.solv [INFO   ]  Found 4 radial mode(s) for m=3\n",
      "2020-10-30 18:01:11,635 - pyMMF.solv [INFO   ]  Searching propagation constant for |l| = 0\n",
      "2020-10-30 18:01:11,641 - pyMMF.solv [INFO   ]  Searching propagation constant for |l| = 1\n",
      "2020-10-30 18:01:11,705 - pyMMF.solv [WARNING]  maximum recursion depth exceeded\n",
      "2020-10-30 18:01:11,706 - pyMMF.solv [WARNING]  Boundary condition could not be met.\n",
      "2020-10-30 18:01:11,706 - pyMMF.solv [WARNING]  Retrying by changing r_max to 3.03a\n",
      "2020-10-30 18:01:11,777 - pyMMF.solv [WARNING]  maximum recursion depth exceeded\n",
      "2020-10-30 18:01:11,777 - pyMMF.solv [WARNING]  Boundary condition could not be met.\n",
      "2020-10-30 18:01:11,778 - pyMMF.solv [WARNING]  Retrying by changing r_max to 2.88a\n",
      "2020-10-30 18:01:11,844 - pyMMF.solv [WARNING]  maximum recursion depth exceeded\n",
      "2020-10-30 18:01:11,845 - pyMMF.solv [WARNING]  Boundary condition could not be met.\n",
      "2020-10-30 18:01:11,846 - pyMMF.solv [WARNING]  Retrying by changing r_max to 2.74a\n",
      "2020-10-30 18:01:11,854 - pyMMF.solv [INFO   ]  Searching propagation constant for |l| = 2\n",
      "2020-10-30 18:01:11,920 - pyMMF.solv [WARNING]  maximum recursion depth exceeded\n",
      "2020-10-30 18:01:11,921 - pyMMF.solv [WARNING]  Boundary condition could not be met.\n",
      "2020-10-30 18:01:11,921 - pyMMF.solv [WARNING]  Retrying by changing r_max to 3.03a\n",
      "2020-10-30 18:01:11,987 - pyMMF.solv [WARNING]  maximum recursion depth exceeded\n",
      "2020-10-30 18:01:11,988 - pyMMF.solv [WARNING]  Boundary condition could not be met.\n",
      "2020-10-30 18:01:11,988 - pyMMF.solv [WARNING]  Retrying by changing r_max to 2.88a\n",
      "2020-10-30 18:01:12,050 - pyMMF.solv [WARNING]  maximum recursion depth exceeded\n",
      "2020-10-30 18:01:12,051 - pyMMF.solv [WARNING]  Boundary condition could not be met.\n",
      "2020-10-30 18:01:12,051 - pyMMF.solv [WARNING]  Retrying by changing r_max to 2.74a\n",
      "2020-10-30 18:01:12,119 - pyMMF.solv [WARNING]  maximum recursion depth exceeded\n",
      "2020-10-30 18:01:12,120 - pyMMF.solv [WARNING]  Boundary condition could not be met.\n",
      "2020-10-30 18:01:12,120 - pyMMF.solv [WARNING]  Retrying by changing r_max to 2.60a\n",
      "2020-10-30 18:01:12,183 - pyMMF.solv [WARNING]  maximum recursion depth exceeded\n",
      "2020-10-30 18:01:12,184 - pyMMF.solv [WARNING]  Boundary condition could not be met.\n",
      "2020-10-30 18:01:12,184 - pyMMF.solv [WARNING]  Retrying by changing r_max to 2.47a\n",
      "2020-10-30 18:01:12,255 - pyMMF.solv [WARNING]  maximum recursion depth exceeded\n",
      "2020-10-30 18:01:12,255 - pyMMF.solv [WARNING]  Boundary condition could not be met.\n",
      "2020-10-30 18:01:12,256 - pyMMF.solv [WARNING]  Retrying by changing r_max to 2.35a\n",
      "2020-10-30 18:01:12,319 - pyMMF.solv [WARNING]  maximum recursion depth exceeded\n",
      "2020-10-30 18:01:12,319 - pyMMF.solv [WARNING]  Boundary condition could not be met.\n",
      "2020-10-30 18:01:12,320 - pyMMF.solv [WARNING]  Retrying by changing r_max to 2.23a\n",
      "2020-10-30 18:01:12,389 - pyMMF.solv [WARNING]  maximum recursion depth exceeded\n",
      "2020-10-30 18:01:12,390 - pyMMF.solv [WARNING]  Boundary condition could not be met.\n",
      "2020-10-30 18:01:12,390 - pyMMF.solv [WARNING]  Retrying by changing r_max to 2.12a\n",
      "2020-10-30 18:01:12,396 - pyMMF.solv [INFO   ]  Searching propagation constant for |l| = 3\n",
      "2020-10-30 18:01:12,469 - pyMMF.solv [WARNING]  maximum recursion depth exceeded\n",
      "2020-10-30 18:01:12,470 - pyMMF.solv [WARNING]  Boundary condition could not be met.\n",
      "2020-10-30 18:01:12,470 - pyMMF.solv [WARNING]  Retrying by changing r_max to 3.03a\n",
      "2020-10-30 18:01:12,537 - pyMMF.solv [WARNING]  maximum recursion depth exceeded\n",
      "2020-10-30 18:01:12,537 - pyMMF.solv [WARNING]  Boundary condition could not be met.\n",
      "2020-10-30 18:01:12,538 - pyMMF.solv [WARNING]  Retrying by changing r_max to 2.88a\n",
      "2020-10-30 18:01:12,614 - pyMMF.solv [WARNING]  maximum recursion depth exceeded\n",
      "2020-10-30 18:01:12,615 - pyMMF.solv [WARNING]  Boundary condition could not be met.\n",
      "2020-10-30 18:01:12,615 - pyMMF.solv [WARNING]  Retrying by changing r_max to 2.74a\n",
      "2020-10-30 18:01:12,684 - pyMMF.solv [WARNING]  maximum recursion depth exceeded\n",
      "2020-10-30 18:01:12,685 - pyMMF.solv [WARNING]  Boundary condition could not be met.\n",
      "2020-10-30 18:01:12,685 - pyMMF.solv [WARNING]  Retrying by changing r_max to 2.60a\n",
      "2020-10-30 18:01:12,759 - pyMMF.solv [WARNING]  maximum recursion depth exceeded\n",
      "2020-10-30 18:01:12,760 - pyMMF.solv [WARNING]  Boundary condition could not be met.\n",
      "2020-10-30 18:01:12,760 - pyMMF.solv [WARNING]  Retrying by changing r_max to 2.47a\n",
      "2020-10-30 18:01:12,831 - pyMMF.solv [WARNING]  maximum recursion depth exceeded\n",
      "2020-10-30 18:01:12,831 - pyMMF.solv [WARNING]  Boundary condition could not be met.\n",
      "2020-10-30 18:01:12,832 - pyMMF.solv [WARNING]  Retrying by changing r_max to 2.35a\n",
      "2020-10-30 18:01:12,899 - pyMMF.solv [WARNING]  maximum recursion depth exceeded\n",
      "2020-10-30 18:01:12,899 - pyMMF.solv [WARNING]  Boundary condition could not be met.\n",
      "2020-10-30 18:01:12,900 - pyMMF.solv [WARNING]  Retrying by changing r_max to 2.23a\n",
      "2020-10-30 18:01:12,969 - pyMMF.solv [WARNING]  maximum recursion depth exceeded\n",
      "2020-10-30 18:01:12,970 - pyMMF.solv [WARNING]  Boundary condition could not be met.\n",
      "2020-10-30 18:01:12,971 - pyMMF.solv [WARNING]  Retrying by changing r_max to 2.12a\n",
      "2020-10-30 18:01:13,085 - pyMMF.solv [WARNING]  maximum recursion depth exceeded\n",
      "2020-10-30 18:01:13,086 - pyMMF.solv [WARNING]  Boundary condition could not be met.\n",
      "2020-10-30 18:01:13,086 - pyMMF.solv [WARNING]  Retrying by changing r_max to 2.01a\n",
      "2020-10-30 18:01:13,161 - pyMMF.solv [WARNING]  maximum recursion depth exceeded\n",
      "2020-10-30 18:01:13,161 - pyMMF.solv [WARNING]  Boundary condition could not be met.\n",
      "2020-10-30 18:01:13,162 - pyMMF.solv [WARNING]  Retrying by changing r_max to 1.91a\n",
      "2020-10-30 18:01:13,232 - pyMMF.solv [WARNING]  maximum recursion depth exceeded\n",
      "2020-10-30 18:01:13,233 - pyMMF.solv [WARNING]  Boundary condition could not be met.\n",
      "2020-10-30 18:01:13,233 - pyMMF.solv [WARNING]  Retrying by changing r_max to 1.82a\n",
      "2020-10-30 18:01:13,298 - pyMMF.solv [WARNING]  maximum recursion depth exceeded\n",
      "2020-10-30 18:01:13,298 - pyMMF.solv [WARNING]  Boundary condition could not be met.\n",
      "2020-10-30 18:01:13,299 - pyMMF.solv [WARNING]  Retrying by changing r_max to 1.72a\n",
      "2020-10-30 18:01:13,315 - pyMMF.solv [INFO   ]  Found 3 radial mode(s) for m=4\n",
      "2020-10-30 18:01:13,316 - pyMMF.solv [INFO   ]  Searching propagation constant for |l| = 0\n",
      "2020-10-30 18:01:13,320 - pyMMF.solv [INFO   ]  Searching propagation constant for |l| = 1\n",
      "2020-10-30 18:01:13,410 - pyMMF.solv [WARNING]  maximum recursion depth exceeded\n",
      "2020-10-30 18:01:13,411 - pyMMF.solv [WARNING]  Boundary condition could not be met.\n",
      "2020-10-30 18:01:13,411 - pyMMF.solv [WARNING]  Retrying by changing r_max to 3.03a\n",
      "2020-10-30 18:01:13,484 - pyMMF.solv [WARNING]  maximum recursion depth exceeded\n",
      "2020-10-30 18:01:13,485 - pyMMF.solv [WARNING]  Boundary condition could not be met.\n",
      "2020-10-30 18:01:13,486 - pyMMF.solv [WARNING]  Retrying by changing r_max to 2.88a\n",
      "2020-10-30 18:01:13,577 - pyMMF.solv [WARNING]  maximum recursion depth exceeded\n",
      "2020-10-30 18:01:13,578 - pyMMF.solv [WARNING]  Boundary condition could not be met.\n",
      "2020-10-30 18:01:13,579 - pyMMF.solv [WARNING]  Retrying by changing r_max to 2.74a\n",
      "2020-10-30 18:01:13,644 - pyMMF.solv [WARNING]  maximum recursion depth exceeded\n",
      "2020-10-30 18:01:13,645 - pyMMF.solv [WARNING]  Boundary condition could not be met.\n",
      "2020-10-30 18:01:13,645 - pyMMF.solv [WARNING]  Retrying by changing r_max to 2.60a\n",
      "2020-10-30 18:01:13,710 - pyMMF.solv [WARNING]  maximum recursion depth exceeded\n",
      "2020-10-30 18:01:13,711 - pyMMF.solv [WARNING]  Boundary condition could not be met.\n",
      "2020-10-30 18:01:13,711 - pyMMF.solv [WARNING]  Retrying by changing r_max to 2.47a\n",
      "2020-10-30 18:01:13,773 - pyMMF.solv [WARNING]  maximum recursion depth exceeded\n",
      "2020-10-30 18:01:13,774 - pyMMF.solv [WARNING]  Boundary condition could not be met.\n",
      "2020-10-30 18:01:13,774 - pyMMF.solv [WARNING]  Retrying by changing r_max to 2.35a\n",
      "2020-10-30 18:01:13,780 - pyMMF.solv [INFO   ]  Searching propagation constant for |l| = 2\n",
      "2020-10-30 18:01:13,848 - pyMMF.solv [WARNING]  maximum recursion depth exceeded\n",
      "2020-10-30 18:01:13,848 - pyMMF.solv [WARNING]  Boundary condition could not be met.\n",
      "2020-10-30 18:01:13,849 - pyMMF.solv [WARNING]  Retrying by changing r_max to 3.03a\n",
      "2020-10-30 18:01:13,916 - pyMMF.solv [WARNING]  maximum recursion depth exceeded\n",
      "2020-10-30 18:01:13,917 - pyMMF.solv [WARNING]  Boundary condition could not be met.\n",
      "2020-10-30 18:01:13,917 - pyMMF.solv [WARNING]  Retrying by changing r_max to 2.88a\n",
      "2020-10-30 18:01:13,994 - pyMMF.solv [WARNING]  maximum recursion depth exceeded\n",
      "2020-10-30 18:01:13,995 - pyMMF.solv [WARNING]  Boundary condition could not be met.\n",
      "2020-10-30 18:01:13,995 - pyMMF.solv [WARNING]  Retrying by changing r_max to 2.74a\n",
      "2020-10-30 18:01:14,060 - pyMMF.solv [WARNING]  maximum recursion depth exceeded\n",
      "2020-10-30 18:01:14,061 - pyMMF.solv [WARNING]  Boundary condition could not be met.\n",
      "2020-10-30 18:01:14,061 - pyMMF.solv [WARNING]  Retrying by changing r_max to 2.60a\n",
      "2020-10-30 18:01:14,135 - pyMMF.solv [WARNING]  maximum recursion depth exceeded\n",
      "2020-10-30 18:01:14,136 - pyMMF.solv [WARNING]  Boundary condition could not be met.\n",
      "2020-10-30 18:01:14,137 - pyMMF.solv [WARNING]  Retrying by changing r_max to 2.47a\n",
      "2020-10-30 18:01:14,202 - pyMMF.solv [WARNING]  maximum recursion depth exceeded\n",
      "2020-10-30 18:01:14,202 - pyMMF.solv [WARNING]  Boundary condition could not be met.\n",
      "2020-10-30 18:01:14,203 - pyMMF.solv [WARNING]  Retrying by changing r_max to 2.35a\n",
      "2020-10-30 18:01:14,269 - pyMMF.solv [WARNING]  maximum recursion depth exceeded\n",
      "2020-10-30 18:01:14,270 - pyMMF.solv [WARNING]  Boundary condition could not be met.\n",
      "2020-10-30 18:01:14,270 - pyMMF.solv [WARNING]  Retrying by changing r_max to 2.23a\n",
      "2020-10-30 18:01:14,342 - pyMMF.solv [WARNING]  maximum recursion depth exceeded\n",
      "2020-10-30 18:01:14,342 - pyMMF.solv [WARNING]  Boundary condition could not be met.\n",
      "2020-10-30 18:01:14,343 - pyMMF.solv [WARNING]  Retrying by changing r_max to 2.12a\n",
      "2020-10-30 18:01:14,404 - pyMMF.solv [WARNING]  maximum recursion depth exceeded\n",
      "2020-10-30 18:01:14,405 - pyMMF.solv [WARNING]  Boundary condition could not be met.\n",
      "2020-10-30 18:01:14,406 - pyMMF.solv [WARNING]  Retrying by changing r_max to 2.01a\n",
      "2020-10-30 18:01:14,424 - pyMMF.solv [INFO   ]  Found 3 radial mode(s) for m=5\n",
      "2020-10-30 18:01:14,424 - pyMMF.solv [INFO   ]  Searching propagation constant for |l| = 0\n",
      "2020-10-30 18:01:14,430 - pyMMF.solv [INFO   ]  Searching propagation constant for |l| = 1\n",
      "2020-10-30 18:01:14,495 - pyMMF.solv [WARNING]  maximum recursion depth exceeded\n",
      "2020-10-30 18:01:14,495 - pyMMF.solv [WARNING]  Boundary condition could not be met.\n",
      "2020-10-30 18:01:14,496 - pyMMF.solv [WARNING]  Retrying by changing r_max to 3.03a\n",
      "2020-10-30 18:01:14,560 - pyMMF.solv [WARNING]  maximum recursion depth exceeded\n",
      "2020-10-30 18:01:14,561 - pyMMF.solv [WARNING]  Boundary condition could not be met.\n",
      "2020-10-30 18:01:14,561 - pyMMF.solv [WARNING]  Retrying by changing r_max to 2.88a\n",
      "2020-10-30 18:01:14,667 - pyMMF.solv [WARNING]  maximum recursion depth exceeded\n",
      "2020-10-30 18:01:14,667 - pyMMF.solv [WARNING]  Boundary condition could not be met.\n",
      "2020-10-30 18:01:14,668 - pyMMF.solv [WARNING]  Retrying by changing r_max to 2.74a\n",
      "2020-10-30 18:01:14,738 - pyMMF.solv [WARNING]  maximum recursion depth exceeded\n",
      "2020-10-30 18:01:14,739 - pyMMF.solv [WARNING]  Boundary condition could not be met.\n",
      "2020-10-30 18:01:14,740 - pyMMF.solv [WARNING]  Retrying by changing r_max to 2.60a\n",
      "2020-10-30 18:01:14,748 - pyMMF.solv [INFO   ]  Searching propagation constant for |l| = 2\n",
      "2020-10-30 18:01:14,817 - pyMMF.solv [WARNING]  maximum recursion depth exceeded\n",
      "2020-10-30 18:01:14,818 - pyMMF.solv [WARNING]  Boundary condition could not be met.\n",
      "2020-10-30 18:01:14,818 - pyMMF.solv [WARNING]  Retrying by changing r_max to 3.03a\n",
      "2020-10-30 18:01:14,886 - pyMMF.solv [WARNING]  maximum recursion depth exceeded\n",
      "2020-10-30 18:01:14,887 - pyMMF.solv [WARNING]  Boundary condition could not be met.\n",
      "2020-10-30 18:01:14,888 - pyMMF.solv [WARNING]  Retrying by changing r_max to 2.88a\n",
      "2020-10-30 18:01:14,981 - pyMMF.solv [WARNING]  maximum recursion depth exceeded\n",
      "2020-10-30 18:01:14,982 - pyMMF.solv [WARNING]  Boundary condition could not be met.\n",
      "2020-10-30 18:01:14,982 - pyMMF.solv [WARNING]  Retrying by changing r_max to 2.74a\n",
      "2020-10-30 18:01:15,053 - pyMMF.solv [WARNING]  maximum recursion depth exceeded\n",
      "2020-10-30 18:01:15,053 - pyMMF.solv [WARNING]  Boundary condition could not be met.\n",
      "2020-10-30 18:01:15,054 - pyMMF.solv [WARNING]  Retrying by changing r_max to 2.60a\n",
      "2020-10-30 18:01:15,118 - pyMMF.solv [WARNING]  maximum recursion depth exceeded\n",
      "2020-10-30 18:01:15,119 - pyMMF.solv [WARNING]  Boundary condition could not be met.\n",
      "2020-10-30 18:01:15,119 - pyMMF.solv [WARNING]  Retrying by changing r_max to 2.47a\n",
      "2020-10-30 18:01:15,190 - pyMMF.solv [WARNING]  maximum recursion depth exceeded\n",
      "2020-10-30 18:01:15,191 - pyMMF.solv [WARNING]  Boundary condition could not be met.\n",
      "2020-10-30 18:01:15,191 - pyMMF.solv [WARNING]  Retrying by changing r_max to 2.35a\n",
      "2020-10-30 18:01:15,266 - pyMMF.solv [WARNING]  maximum recursion depth exceeded\n",
      "2020-10-30 18:01:15,266 - pyMMF.solv [WARNING]  Boundary condition could not be met.\n",
      "2020-10-30 18:01:15,267 - pyMMF.solv [WARNING]  Retrying by changing r_max to 2.23a\n",
      "2020-10-30 18:01:15,337 - pyMMF.solv [WARNING]  maximum recursion depth exceeded\n",
      "2020-10-30 18:01:15,337 - pyMMF.solv [WARNING]  Boundary condition could not be met.\n",
      "2020-10-30 18:01:15,338 - pyMMF.solv [WARNING]  Retrying by changing r_max to 2.12a\n",
      "2020-10-30 18:01:15,407 - pyMMF.solv [WARNING]  maximum recursion depth exceeded\n",
      "2020-10-30 18:01:15,407 - pyMMF.solv [WARNING]  Boundary condition could not be met.\n",
      "2020-10-30 18:01:15,408 - pyMMF.solv [WARNING]  Retrying by changing r_max to 2.01a\n",
      "2020-10-30 18:01:15,427 - pyMMF.solv [INFO   ]  Found 2 radial mode(s) for m=6\n",
      "2020-10-30 18:01:15,427 - pyMMF.solv [INFO   ]  Searching propagation constant for |l| = 0\n",
      "2020-10-30 18:01:15,434 - pyMMF.solv [INFO   ]  Searching propagation constant for |l| = 1\n",
      "2020-10-30 18:01:15,504 - pyMMF.solv [WARNING]  maximum recursion depth exceeded\n",
      "2020-10-30 18:01:15,505 - pyMMF.solv [WARNING]  Boundary condition could not be met.\n",
      "2020-10-30 18:01:15,505 - pyMMF.solv [WARNING]  Retrying by changing r_max to 3.03a\n",
      "2020-10-30 18:01:15,571 - pyMMF.solv [WARNING]  maximum recursion depth exceeded\n",
      "2020-10-30 18:01:15,572 - pyMMF.solv [WARNING]  Boundary condition could not be met.\n",
      "2020-10-30 18:01:15,573 - pyMMF.solv [WARNING]  Retrying by changing r_max to 2.88a\n",
      "2020-10-30 18:01:15,644 - pyMMF.solv [WARNING]  maximum recursion depth exceeded\n",
      "2020-10-30 18:01:15,644 - pyMMF.solv [WARNING]  Boundary condition could not be met.\n",
      "2020-10-30 18:01:15,645 - pyMMF.solv [WARNING]  Retrying by changing r_max to 2.74a\n",
      "2020-10-30 18:01:15,716 - pyMMF.solv [WARNING]  maximum recursion depth exceeded\n",
      "2020-10-30 18:01:15,717 - pyMMF.solv [WARNING]  Boundary condition could not be met.\n",
      "2020-10-30 18:01:15,717 - pyMMF.solv [WARNING]  Retrying by changing r_max to 2.60a\n",
      "2020-10-30 18:01:15,779 - pyMMF.solv [WARNING]  maximum recursion depth exceeded\n",
      "2020-10-30 18:01:15,779 - pyMMF.solv [WARNING]  Boundary condition could not be met.\n",
      "2020-10-30 18:01:15,780 - pyMMF.solv [WARNING]  Retrying by changing r_max to 2.47a\n",
      "2020-10-30 18:01:15,852 - pyMMF.solv [WARNING]  maximum recursion depth exceeded\n",
      "2020-10-30 18:01:15,853 - pyMMF.solv [WARNING]  Boundary condition could not be met.\n",
      "2020-10-30 18:01:15,854 - pyMMF.solv [WARNING]  Retrying by changing r_max to 2.35a\n",
      "2020-10-30 18:01:15,915 - pyMMF.solv [WARNING]  maximum recursion depth exceeded\n",
      "2020-10-30 18:01:15,915 - pyMMF.solv [WARNING]  Boundary condition could not be met.\n",
      "2020-10-30 18:01:15,916 - pyMMF.solv [WARNING]  Retrying by changing r_max to 2.23a\n",
      "2020-10-30 18:01:15,933 - pyMMF.solv [INFO   ]  Found 2 radial mode(s) for m=7\n",
      "2020-10-30 18:01:15,934 - pyMMF.solv [INFO   ]  Searching propagation constant for |l| = 0\n",
      "2020-10-30 18:01:15,939 - pyMMF.solv [INFO   ]  Searching propagation constant for |l| = 1\n",
      "2020-10-30 18:01:16,046 - pyMMF.solv [WARNING]  maximum recursion depth exceeded\n",
      "2020-10-30 18:01:16,046 - pyMMF.solv [WARNING]  Boundary condition could not be met.\n",
      "2020-10-30 18:01:16,047 - pyMMF.solv [WARNING]  Retrying by changing r_max to 3.03a\n",
      "2020-10-30 18:01:16,115 - pyMMF.solv [WARNING]  maximum recursion depth exceeded\n",
      "2020-10-30 18:01:16,116 - pyMMF.solv [WARNING]  Boundary condition could not be met.\n",
      "2020-10-30 18:01:16,117 - pyMMF.solv [WARNING]  Retrying by changing r_max to 2.88a\n",
      "2020-10-30 18:01:16,191 - pyMMF.solv [WARNING]  maximum recursion depth exceeded\n",
      "2020-10-30 18:01:16,191 - pyMMF.solv [WARNING]  Boundary condition could not be met.\n",
      "2020-10-30 18:01:16,192 - pyMMF.solv [WARNING]  Retrying by changing r_max to 2.74a\n",
      "2020-10-30 18:01:16,265 - pyMMF.solv [WARNING]  maximum recursion depth exceeded\n",
      "2020-10-30 18:01:16,266 - pyMMF.solv [WARNING]  Boundary condition could not be met.\n",
      "2020-10-30 18:01:16,266 - pyMMF.solv [WARNING]  Retrying by changing r_max to 2.60a\n",
      "2020-10-30 18:01:16,332 - pyMMF.solv [WARNING]  maximum recursion depth exceeded\n",
      "2020-10-30 18:01:16,333 - pyMMF.solv [WARNING]  Boundary condition could not be met.\n",
      "2020-10-30 18:01:16,334 - pyMMF.solv [WARNING]  Retrying by changing r_max to 2.47a\n",
      "2020-10-30 18:01:16,351 - pyMMF.solv [INFO   ]  Found 1 radial mode(s) for m=8\n",
      "2020-10-30 18:01:16,352 - pyMMF.solv [INFO   ]  Searching propagation constant for |l| = 0\n",
      "2020-10-30 18:01:16,421 - pyMMF.solv [WARNING]  maximum recursion depth exceeded\n",
      "2020-10-30 18:01:16,422 - pyMMF.solv [WARNING]  Boundary condition could not be met.\n",
      "2020-10-30 18:01:16,422 - pyMMF.solv [WARNING]  Retrying by changing r_max to 3.03a\n",
      "2020-10-30 18:01:16,499 - pyMMF.solv [WARNING]  maximum recursion depth exceeded\n",
      "2020-10-30 18:01:16,500 - pyMMF.solv [WARNING]  Boundary condition could not be met.\n",
      "2020-10-30 18:01:16,500 - pyMMF.solv [WARNING]  Retrying by changing r_max to 2.88a\n",
      "2020-10-30 18:01:16,517 - pyMMF.solv [INFO   ]  Found 1 radial mode(s) for m=9\n",
      "2020-10-30 18:01:16,518 - pyMMF.solv [INFO   ]  Searching propagation constant for |l| = 0\n",
      "2020-10-30 18:01:16,538 - pyMMF.solv [INFO   ]  Found 0 radial mode(s) for m=10\n",
      "2020-10-30 18:01:16,539 - pyMMF.core [DEBUG  ]  Mode data stored in memory.\n"
     ]
    }
   ],
   "source": [
    "solver = pyMMF.propagationModeSolver()\n",
    "solver.setIndexProfile(profile)\n",
    "solver.setWL(wl)\n",
    "modes = solver.solve(\n",
    "        mode='radial',\n",
    "        curvature = None,\n",
    "        r_max = r_max, # max radius to calculate (and first try for large radial boundary condition)\n",
    "        dh = dh, # radial resolution during the computation\n",
    "        min_radius_bc = 1.5, # min large radial boundary condition\n",
    "        change_bc_radius_step = 0.95, #change of the large radial boundary condition if fails \n",
    "        N_beta_coarse = int(1e3) # number of steps of the initial coarse scan\n",
    "        )"
   ]
  },
  {
   "cell_type": "markdown",
   "metadata": {},
   "source": [
    "### Get the mode matrix and rearrange to mode order \n",
    "(to fit with comsol data later on)"
   ]
  },
  {
   "cell_type": "code",
   "execution_count": 6,
   "metadata": {},
   "outputs": [],
   "source": [
    "M0_as = modes.getModeMatrix(npola = 2)\n",
    "Nmodes = modes.number\n",
    "new_ind = [i//2 if i%2 == 0 else (i-1)//2+Nmodes for i in range(2*Nmodes)]\n",
    "M0_as = M0_as[:,new_ind]\n",
    "betas_as = np.sort(np.concatenate([modes.betas]*2))[::-1]\n",
    "M = modes.m\n",
    "L = modes.l"
   ]
  },
  {
   "cell_type": "markdown",
   "metadata": {},
   "source": [
    "## 3. Compute transverse modes using pyMMF's 2D finite difference eigenvalue solver\n",
    "See wavefrontshapin.net tutorial on [solving the Helmholtz discretized equation](https://www.wavefrontshaping.net/post/id/3) and on [pyMMF implementation](https://www.wavefrontshaping.net/post/id/6)."
   ]
  },
  {
   "cell_type": "code",
   "execution_count": 7,
   "metadata": {},
   "outputs": [
    {
     "name": "stderr",
     "output_type": "stream",
     "text": [
      "2020-10-30 18:01:16,682 - pyMMF.solv [INFO   ]  Solving the spatial eigenvalue problem for mode finding.\n",
      "2020-10-30 18:01:16,683 - pyMMF.solv [INFO   ]  Use close boundary condition.\n",
      "2020-10-30 18:01:28,677 - pyMMF.solv [INFO   ]  Solver found 55 modes is 12.00 seconds.\n",
      "2020-10-30 18:01:28,678 - pyMMF.solv [WARNING]  The solver reached the maximum number of modes set.\n",
      "2020-10-30 18:01:28,679 - pyMMF.solv [WARNING]  Some propagating modes may be missing.\n",
      "2020-10-30 18:01:28,680 - pyMMF.core [DEBUG  ]  Mode data stored in memory.\n"
     ]
    }
   ],
   "source": [
    "modes = solver.solve(\n",
    "        mode='eig',\n",
    "        nmodesMax=Nmodes)"
   ]
  },
  {
   "cell_type": "code",
   "execution_count": 8,
   "metadata": {},
   "outputs": [],
   "source": [
    "M0_eig = modes.getModeMatrix(npola = 2)\n",
    "M0_eig = M0_eig[:,new_ind]\n",
    "# dupliate the propagation constants for the two polarizations\n",
    "betas_eig = np.abs(np.sort(np.concatenate([modes.betas]*2))[::-1])"
   ]
  },
  {
   "cell_type": "markdown",
   "metadata": {},
   "source": [
    "## 4. WKB approximation"
   ]
  },
  {
   "cell_type": "code",
   "execution_count": 9,
   "metadata": {},
   "outputs": [],
   "source": [
    "n2 = np.sqrt(n1**2-NA**2)\n",
    "Delta = NA**2/(2.*n2**2)\n",
    "# b = radius/np.sqrt(2*Delta)\n",
    "b = radius*n2/NA\n",
    "f_parabolic = lambda r: np.sqrt(n1**2*(1.-(r/b)**2))"
   ]
  },
  {
   "cell_type": "code",
   "execution_count": 12,
   "metadata": {},
   "outputs": [
    {
     "data": {
      "application/vnd.jupyter.widget-view+json": {
       "model_id": "31af2b9b72a345e2abad90cb9f9e7b1a",
       "version_major": 2,
       "version_minor": 0
      },
      "text/plain": [
       "Canvas(toolbar=Toolbar(toolitems=[('Home', 'Reset original view', 'home', 'home'), ('Back', 'Back to previous …"
      ]
     },
     "metadata": {},
     "output_type": "display_data"
    },
    {
     "data": {
      "text/plain": [
       "[<matplotlib.lines.Line2D at 0x7f7faed85470>]"
      ]
     },
     "execution_count": 12,
     "metadata": {},
     "output_type": "execute_result"
    }
   ],
   "source": [
    "r_vec = np.linspace(0, 0.7*areaSize, 150)\n",
    "real_profile = [profile.radialFunc(r) for r in r_vec]\n",
    "infinite_GRIN_profile = [f_parabolic(r) for r in r_vec]\n",
    "plt.figure()\n",
    "plt.plot(r_vec,real_profile)\n",
    "plt.plot(r_vec,infinite_GRIN_profile, '--')"
   ]
  },
  {
   "cell_type": "markdown",
   "metadata": {},
   "source": [
    "## propagation constants unde WKB approximation\n",
    "\n",
    "$\\sqrt{k_o^2 n_1^2-2\\alpha \\left( |l|+2m+1\\right)}$\n",
    "\n",
    "$\\alpha = k_o n_1/b$ \n",
    "\n",
    "and \n",
    "\n",
    "$b = \\frac{radius \\times n_1}{NA}$"
   ]
  },
  {
   "cell_type": "code",
   "execution_count": 102,
   "metadata": {},
   "outputs": [],
   "source": [
    "n0 = np.min(profile.n)\n",
    "alpha = k0*n2/b\n",
    "betas_wkb = []\n",
    "\n",
    "for m,l in zip(M,L):\n",
    "    betas_wkb.append(np.sqrt(k0**2*n1**2-2*alpha*(np.abs(m)+2*l+1)))\n",
    " \n",
    "\n",
    "betas_wkb = np.concatenate([betas_wkb]*2)\n",
    "new_ind = np.argsort(betas_wkb)[::-1]\n",
    "betas_wkb = betas_wkb[new_ind]"
   ]
  },
  {
   "cell_type": "markdown",
   "metadata": {},
   "source": [
    "### Mode profile under WKB approximation\n",
    "\n",
    "$\\psi_{l,m}(r, \\phi) = A e^{- \\frac{\\alpha r^2}{2}}\n",
    "(\\alpha r^2)^{|m|/2} L_l^{|m|}(\\alpha r^2)e^{im\\phi}\n",
    "$\n",
    "\n",
    "$L_l^{|m|}$ Laguerre polynomial"
   ]
  },
  {
   "cell_type": "code",
   "execution_count": 122,
   "metadata": {},
   "outputs": [
    {
     "name": "stdout",
     "output_type": "stream",
     "text": [
      "---\n",
      "(-1, -1) -1\n",
      "0 4\n",
      "---\n",
      "0 4\n",
      "1 4\n",
      "---\n",
      "1 4\n",
      "1 4\n",
      "---\n",
      "1 4\n",
      "0 3\n",
      "---\n",
      "0 3\n",
      "2 3\n",
      "---\n",
      "2 3\n",
      "2 3\n",
      "---\n",
      "2 3\n",
      "3 3\n",
      "---\n",
      "3 3\n",
      "3 3\n",
      "---\n",
      "3 3\n",
      "1 3\n",
      "---\n",
      "1 3\n",
      "1 3\n",
      "---\n",
      "1 3\n",
      "0 2\n",
      "---\n",
      "0 2\n",
      "2 2\n",
      "---\n",
      "2 2\n",
      "2 2\n",
      "---\n",
      "2 2\n",
      "4 2\n",
      "---\n",
      "4 2\n",
      "4 2\n",
      "---\n",
      "4 2\n",
      "1 2\n",
      "---\n",
      "1 2\n",
      "1 2\n",
      "---\n",
      "1 2\n",
      "3 2\n",
      "---\n",
      "3 2\n",
      "3 2\n",
      "---\n",
      "3 2\n",
      "5 2\n",
      "---\n",
      "5 2\n",
      "5 2\n",
      "---\n",
      "5 2\n",
      "0 1\n",
      "---\n",
      "0 1\n",
      "2 1\n",
      "---\n",
      "2 1\n",
      "2 1\n",
      "---\n",
      "2 1\n",
      "4 1\n",
      "---\n",
      "4 1\n",
      "4 1\n",
      "---\n",
      "4 1\n",
      "6 1\n",
      "---\n",
      "6 1\n",
      "6 1\n",
      "---\n",
      "6 1\n",
      "1 1\n",
      "---\n",
      "1 1\n",
      "1 1\n",
      "---\n",
      "1 1\n",
      "3 1\n",
      "---\n",
      "3 1\n",
      "3 1\n",
      "---\n",
      "3 1\n",
      "5 1\n",
      "---\n",
      "5 1\n",
      "5 1\n",
      "---\n",
      "5 1\n",
      "7 1\n",
      "---\n",
      "7 1\n",
      "7 1\n",
      "---\n",
      "7 1\n",
      "0 0\n",
      "---\n",
      "0 0\n",
      "2 0\n",
      "---\n",
      "2 0\n",
      "2 0\n",
      "---\n",
      "2 0\n",
      "4 0\n",
      "---\n",
      "4 0\n",
      "4 0\n",
      "---\n",
      "4 0\n",
      "6 0\n",
      "---\n",
      "6 0\n",
      "6 0\n",
      "---\n",
      "6 0\n",
      "8 0\n",
      "---\n",
      "8 0\n",
      "8 0\n",
      "---\n",
      "8 0\n",
      "1 0\n",
      "---\n",
      "1 0\n",
      "1 0\n",
      "---\n",
      "1 0\n",
      "3 0\n",
      "---\n",
      "3 0\n",
      "3 0\n",
      "---\n",
      "3 0\n",
      "5 0\n",
      "---\n",
      "5 0\n",
      "5 0\n",
      "---\n",
      "5 0\n",
      "7 0\n",
      "---\n",
      "7 0\n",
      "7 0\n",
      "---\n",
      "7 0\n",
      "9 0\n",
      "---\n",
      "9 0\n",
      "9 0\n"
     ]
    }
   ],
   "source": [
    "from scipy.special import genlaguerre\n",
    "M0_wkb = np.empty(shape = (2*npoints**2,2*Nmodes), dtype = np.complex)\n",
    "aR2 = alpha*profile.R.ravel()**2\n",
    "\n",
    "prev_m = m, prev_l = -1, -1\n",
    "\n",
    "for i,(m,l) in enumerate(zip(M,L)):\n",
    "    \n",
    "    c = -1 if (prev_m == m and prev_l == l) else 1\n",
    "    print('---')\n",
    "    print(prev_m,prev_l)\n",
    "    print(m,l)\n",
    "        \n",
    "    mode_profile = np.exp(-aR2/2)*aR2**(np.abs(m)/2)*genlaguerre(l,np.abs(m))(aR2)*np.exp(1j*c*m*profile.TH.ravel())\n",
    "    mode_profile = mode_profile/np.linalg.norm(mode_profile)\n",
    "    M0_wkb[:npoints**2,i] = mode_profile\n",
    "    M0_wkb[npoints**2:,i+Nmodes] = mode_profile\n",
    "    \n",
    "    prev_m = m\n",
    "    prev_l = l\n",
    "    \n",
    "M0_wkb = M0_wkb[...,new_ind]"
   ]
  },
  {
   "cell_type": "code",
   "execution_count": 118,
   "metadata": {},
   "outputs": [
    {
     "name": "stderr",
     "output_type": "stream",
     "text": [
      "/opt/miniconda/envs/py36/lib/python3.6/site-packages/ipykernel_launcher.py:3: RuntimeWarning: More than 20 figures have been opened. Figures created through the pyplot interface (`matplotlib.pyplot.figure`) are retained until explicitly closed and may consume too much memory. (To control this warning, see the rcParam `figure.max_open_warning`).\n",
      "  This is separate from the ipykernel package so we can avoid doing imports until\n"
     ]
    },
    {
     "data": {
      "application/vnd.jupyter.widget-view+json": {
       "model_id": "06eaaa5d10d3412aa8c6358b5002b2ac",
       "version_major": 2,
       "version_minor": 0
      },
      "text/plain": [
       "Canvas(toolbar=Toolbar(toolitems=[('Home', 'Reset original view', 'home', 'home'), ('Back', 'Back to previous …"
      ]
     },
     "metadata": {},
     "output_type": "display_data"
    },
    {
     "data": {
      "text/plain": [
       "[<matplotlib.lines.Line2D at 0x7f7f9f589a58>]"
      ]
     },
     "execution_count": 118,
     "metadata": {},
     "output_type": "execute_result"
    }
   ],
   "source": [
    "A_wkb = M0_cs_trans.transpose().conjugate()@M0_wkb\n",
    "_,s,_ = np.linalg.svd(A_wkb)\n",
    "plt.figure()\n",
    "plt.plot(s)"
   ]
  },
  {
   "cell_type": "markdown",
   "metadata": {},
   "source": [
    "## 5. Load Comsol data\n",
    "We used the same paramters as for pyMMF calculations.\n",
    "Simulation are full vectorial FDTD simulation, so we do have a \n",
    "(small) longitudinal component of the optical field. "
   ]
  },
  {
   "cell_type": "code",
   "execution_count": 104,
   "metadata": {},
   "outputs": [],
   "source": [
    "data = np.load('modes_transverse_comsol_128.npz')\n",
    "# matrix of transverse mode profiles\n",
    "M0_cs = data['M0_cs']\n",
    "# propagation constats \n",
    "betas_cs = data['betas']"
   ]
  },
  {
   "cell_type": "markdown",
   "metadata": {},
   "source": [
    "### Show one mode"
   ]
  },
  {
   "cell_type": "code",
   "execution_count": 105,
   "metadata": {},
   "outputs": [
    {
     "name": "stderr",
     "output_type": "stream",
     "text": [
      "/opt/miniconda/envs/py36/lib/python3.6/site-packages/ipykernel_launcher.py:9: RuntimeWarning: More than 20 figures have been opened. Figures created through the pyplot interface (`matplotlib.pyplot.figure`) are retained until explicitly closed and may consume too much memory. (To control this warning, see the rcParam `figure.max_open_warning`).\n",
      "  if __name__ == '__main__':\n"
     ]
    },
    {
     "data": {
      "application/vnd.jupyter.widget-view+json": {
       "model_id": "9dccc8fa15ff4259a7b3c90fd92fa9ee",
       "version_major": 2,
       "version_minor": 0
      },
      "text/plain": [
       "Canvas(toolbar=Toolbar(toolitems=[('Home', 'Reset original view', 'home', 'home'), ('Back', 'Back to previous …"
      ]
     },
     "metadata": {},
     "output_type": "display_data"
    },
    {
     "name": "stderr",
     "output_type": "stream",
     "text": [
      "/opt/miniconda/envs/py36/lib/python3.6/site-packages/ipykernel_launcher.py:24: RuntimeWarning: More than 20 figures have been opened. Figures created through the pyplot interface (`matplotlib.pyplot.figure`) are retained until explicitly closed and may consume too much memory. (To control this warning, see the rcParam `figure.max_open_warning`).\n"
     ]
    },
    {
     "data": {
      "application/vnd.jupyter.widget-view+json": {
       "model_id": "a66aec1dc73c4e11aaf6bae9ef711143",
       "version_major": 2,
       "version_minor": 0
      },
      "text/plain": [
       "Canvas(toolbar=Toolbar(toolitems=[('Home', 'Reset original view', 'home', 'home'), ('Back', 'Back to previous …"
      ]
     },
     "metadata": {},
     "output_type": "display_data"
    },
    {
     "data": {
      "text/plain": [
       "Text(0.5, 0.98, 'Full vectorial FDTD (Comsol)\\n Mode 50')"
      ]
     },
     "execution_count": 105,
     "metadata": {},
     "output_type": "execute_result"
    }
   ],
   "source": [
    "ind = 50\n",
    "\n",
    "Ex = M0_cs[:npoints**2,ind].reshape([npoints]*2)\n",
    "Ey = M0_cs[npoints**2:2*npoints**2,ind].reshape([npoints]*2)\n",
    "Ez = M0_cs[2*npoints**2:,ind].reshape([npoints]*2)\n",
    "\n",
    "max_E = np.max([np.max(np.abs(E)) for E in [Ex,Ey]])\n",
    "\n",
    "plt.figure(figsize=[12,5])\n",
    "plt.subplot(131)\n",
    "plt.imshow(np.abs(Ex), vmax = max_E)\n",
    "plt.axis('off')\n",
    "plt.title(r'$|E_x|$')\n",
    "plt.subplot(132)\n",
    "plt.imshow(np.abs(Ey), vmax = max_E)\n",
    "plt.axis('off')\n",
    "plt.title(r'$|E_y|$')\n",
    "plt.subplot(133)\n",
    "plt.imshow(np.abs(Ez), vmax = max_E)\n",
    "plt.axis('off')\n",
    "plt.title(r'$|E_z|$')\n",
    "plt.suptitle(f'Full vectorial FDTD (Comsol)\\n Mode {ind}')\n",
    "\n",
    "plt.figure(figsize=[8,5])\n",
    "plt.subplot(121)\n",
    "plt.imshow(np.sqrt(np.abs(Ex)**2+np.abs(Ey)**2), vmax = max_E)\n",
    "plt.axis('off')\n",
    "plt.title(r'$|E_t|$')\n",
    "plt.subplot(122)\n",
    "plt.imshow(np.abs(Ey), vmax = max_E)\n",
    "plt.axis('off')\n",
    "plt.title(r'$|E_y|$')\n",
    "plt.suptitle(f'Full vectorial FDTD (Comsol)\\n Mode {ind}')"
   ]
  },
  {
   "cell_type": "markdown",
   "metadata": {},
   "source": [
    "## 6. Compare propagation constants"
   ]
  },
  {
   "cell_type": "markdown",
   "metadata": {},
   "source": [
    "### 6.1 Whole range"
   ]
  },
  {
   "cell_type": "code",
   "execution_count": 106,
   "metadata": {},
   "outputs": [
    {
     "name": "stderr",
     "output_type": "stream",
     "text": [
      "/opt/miniconda/envs/py36/lib/python3.6/site-packages/ipykernel_launcher.py:4: RuntimeWarning: More than 20 figures have been opened. Figures created through the pyplot interface (`matplotlib.pyplot.figure`) are retained until explicitly closed and may consume too much memory. (To control this warning, see the rcParam `figure.max_open_warning`).\n",
      "  after removing the cwd from sys.path.\n"
     ]
    },
    {
     "data": {
      "application/vnd.jupyter.widget-view+json": {
       "model_id": "137d695ec3434bf4aedc0d05b4da1629",
       "version_major": 2,
       "version_minor": 0
      },
      "text/plain": [
       "Canvas(toolbar=Toolbar(toolitems=[('Home', 'Reset original view', 'home', 'home'), ('Back', 'Back to previous …"
      ]
     },
     "metadata": {},
     "output_type": "display_data"
    },
    {
     "data": {
      "text/plain": [
       "<matplotlib.legend.Legend at 0x7f7f9f8d8cc0>"
      ]
     },
     "execution_count": 106,
     "metadata": {},
     "output_type": "execute_result"
    }
   ],
   "source": [
    "msize = 10\n",
    "beta_max = k0*n1\n",
    "beta_min = k0*np.min(profile.n)\n",
    "plt.figure(figsize = (10,6))\n",
    "plt.plot(np.abs(betas_cs[:110]),'b+', label = 'Comsol', markersize = msize, markeredgewidth=2)\n",
    "plt.plot(betas_as,'r*', label = 'pyMMF axisymmetric solver', markersize = msize, markeredgewidth=2)\n",
    "plt.plot(betas_eig,'gx', label = 'pyMMF 2D eigenvalue solver', markersize = msize, markeredgewidth=2)\n",
    "plt.plot(betas_wkb,'k.', label = 'WKB', markersize = msize,markeredgewidth=2)\n",
    "plt.axhline(beta_min, color='g')\n",
    "plt.axhline(beta_max, color='g')\n",
    "plt.xlabel('Modes')\n",
    "plt.ylabel('Propagation constant')\n",
    "plt.ylim([5.81,5.88])\n",
    "plt.legend(fontsize=16, loc = 'upper right')"
   ]
  },
  {
   "cell_type": "markdown",
   "metadata": {},
   "source": [
    "## Show a mode\n"
   ]
  },
  {
   "cell_type": "markdown",
   "metadata": {},
   "source": [
    "### 6.2 Zoom on lower order modes"
   ]
  },
  {
   "cell_type": "code",
   "execution_count": 107,
   "metadata": {},
   "outputs": [
    {
     "name": "stderr",
     "output_type": "stream",
     "text": [
      "/opt/miniconda/envs/py36/lib/python3.6/site-packages/ipykernel_launcher.py:6: RuntimeWarning: More than 20 figures have been opened. Figures created through the pyplot interface (`matplotlib.pyplot.figure`) are retained until explicitly closed and may consume too much memory. (To control this warning, see the rcParam `figure.max_open_warning`).\n",
      "  \n"
     ]
    },
    {
     "data": {
      "application/vnd.jupyter.widget-view+json": {
       "model_id": "47cbf633d7664722bd05fdcfbf0d27a8",
       "version_major": 2,
       "version_minor": 0
      },
      "text/plain": [
       "Canvas(toolbar=Toolbar(toolitems=[('Home', 'Reset original view', 'home', 'home'), ('Back', 'Back to previous …"
      ]
     },
     "metadata": {},
     "output_type": "display_data"
    },
    {
     "data": {
      "text/plain": [
       "<matplotlib.legend.Legend at 0x7f7f9f8857b8>"
      ]
     },
     "execution_count": 107,
     "metadata": {},
     "output_type": "execute_result"
    }
   ],
   "source": [
    "msize = 14\n",
    "xlim = [0,10]\n",
    "ylim = [5.86,5.875]\n",
    "beta_max = k0*n1\n",
    "beta_min = k0*np.min(profile.n)\n",
    "plt.figure(figsize = (10,6))\n",
    "plt.plot(np.abs(betas_cs[:110]),'b+', label = 'Comsol', markersize = 1.5*msize, markeredgewidth=2)\n",
    "plt.plot(betas_as,'r*', label = 'pyMMF axisymmetric solver', markersize = msize, markeredgewidth=2)\n",
    "plt.plot(betas_eig,'gx', label = 'pyMMF 2D eigenvalue solver', markersize = msize, markeredgewidth=2)\n",
    "plt.plot(betas_wkb,'k.', label = 'WKB', markersize = msize,)\n",
    "plt.axhline(beta_min, color='g')\n",
    "plt.axhline(beta_max, color='g')\n",
    "plt.xlabel('Modes')\n",
    "plt.ylabel('Propagation constant')\n",
    "plt.xlim(xlim)\n",
    "plt.ylim(ylim)\n",
    "plt.legend(fontsize=16, loc = 'upper right')"
   ]
  },
  {
   "cell_type": "markdown",
   "metadata": {},
   "source": [
    "### 6.3 Zoom on higher order modes"
   ]
  },
  {
   "cell_type": "code",
   "execution_count": 108,
   "metadata": {},
   "outputs": [
    {
     "name": "stderr",
     "output_type": "stream",
     "text": [
      "/opt/miniconda/envs/py36/lib/python3.6/site-packages/ipykernel_launcher.py:5: RuntimeWarning: More than 20 figures have been opened. Figures created through the pyplot interface (`matplotlib.pyplot.figure`) are retained until explicitly closed and may consume too much memory. (To control this warning, see the rcParam `figure.max_open_warning`).\n",
      "  \"\"\"\n"
     ]
    },
    {
     "data": {
      "application/vnd.jupyter.widget-view+json": {
       "model_id": "bd6ff495f41143ef878814b9f6e59770",
       "version_major": 2,
       "version_minor": 0
      },
      "text/plain": [
       "Canvas(toolbar=Toolbar(toolitems=[('Home', 'Reset original view', 'home', 'home'), ('Back', 'Back to previous …"
      ]
     },
     "metadata": {},
     "output_type": "display_data"
    },
    {
     "data": {
      "text/plain": [
       "<matplotlib.legend.Legend at 0x7f7f9f7f2b70>"
      ]
     },
     "execution_count": 108,
     "metadata": {},
     "output_type": "execute_result"
    }
   ],
   "source": [
    "xlim = [89,110]\n",
    "ylim = [5.8215,5.824]\n",
    "beta_max = k0*n1\n",
    "beta_min = k0*np.min(profile.n)\n",
    "plt.figure(figsize = (10,6))\n",
    "plt.plot(np.abs(betas_cs[:110]),'b+', label = 'Comsol', markersize = 1.5*msize, markeredgewidth=2)\n",
    "plt.plot(betas_as,'r*', label = 'pyMMF axisymmetric solver', markersize = msize, markeredgewidth=2)\n",
    "plt.plot(betas_eig,'gx', label = 'pyMMF 2D eigenvalue solver', markersize = msize, markeredgewidth=2)\n",
    "plt.plot(betas_wkb,'k.', label = 'WKB', markersize = msize,)\n",
    "plt.axhline(beta_min, color='g')\n",
    "plt.axhline(beta_max, color='g')\n",
    "plt.xlabel('Modes')\n",
    "plt.ylabel('Propagation constant')\n",
    "plt.xlim(xlim)\n",
    "plt.ylim(ylim)\n",
    "plt.legend(fontsize=16, loc = 'upper right')"
   ]
  },
  {
   "cell_type": "code",
   "execution_count": 109,
   "metadata": {},
   "outputs": [
    {
     "name": "stderr",
     "output_type": "stream",
     "text": [
      "/opt/miniconda/envs/py36/lib/python3.6/site-packages/ipykernel_launcher.py:9: RuntimeWarning: More than 20 figures have been opened. Figures created through the pyplot interface (`matplotlib.pyplot.figure`) are retained until explicitly closed and may consume too much memory. (To control this warning, see the rcParam `figure.max_open_warning`).\n",
      "  if __name__ == '__main__':\n"
     ]
    },
    {
     "data": {
      "application/vnd.jupyter.widget-view+json": {
       "model_id": "15ef18e4abef45d1a51e118b5d8b1c3b",
       "version_major": 2,
       "version_minor": 0
      },
      "text/plain": [
       "Canvas(toolbar=Toolbar(toolitems=[('Home', 'Reset original view', 'home', 'home'), ('Back', 'Back to previous …"
      ]
     },
     "metadata": {},
     "output_type": "display_data"
    },
    {
     "data": {
      "text/plain": [
       "(-0.5, 127.5, 127.5, -0.5)"
      ]
     },
     "execution_count": 109,
     "metadata": {},
     "output_type": "execute_result"
    }
   ],
   "source": [
    "i = 4\n",
    "ex = M0_cs[:npoints**2,i].reshape([npoints]*2)\n",
    "ey = M0_cs[npoints**2:2*npoints**2,i].reshape([npoints]*2)\n",
    "ex2 = M0_as[:npoints**2,i].reshape([npoints]*2)\n",
    "ey2 = M0_as[npoints**2:,i].reshape([npoints]*2)\n",
    "\n",
    "m = np.max([np.max(np.abs(ex)),np.max(np.abs(ey))])\n",
    "m2 = np.max([np.max(np.abs(ex2)),np.max(np.abs(ey2))])\n",
    "plt.figure(figsize=(9,9))\n",
    "plt.subplot(221)\n",
    "plt.imshow(np.abs(ex), vmax = m)\n",
    "plt.axis('off')\n",
    "plt.title(r'$|E_x|$')\n",
    "plt.subplot(222)\n",
    "plt.imshow(np.abs(ey), vmax = m)\n",
    "plt.axis('off')\n",
    "plt.title(r'$|E_y|$')\n",
    "plt.subplot(223)\n",
    "plt.imshow(np.abs(ex2), vmax = m2)\n",
    "plt.axis('off')\n",
    "plt.subplot(224)\n",
    "plt.imshow(np.abs(ey2), vmax = m2)\n",
    "plt.axis('off')"
   ]
  },
  {
   "cell_type": "markdown",
   "metadata": {},
   "source": [
    "## 7. Projection of one basis onto the other one\n",
    "#### The order **inside** each degenerate group is not exacty the same, but it is normal as they are degenerate."
   ]
  },
  {
   "cell_type": "code",
   "execution_count": 110,
   "metadata": {},
   "outputs": [],
   "source": [
    "# only keep transverse field\n",
    "M0_cs_trans = M0_cs[:2*npoints**2,:110]"
   ]
  },
  {
   "cell_type": "markdown",
   "metadata": {},
   "source": [
    "### 7.1 Display conversion matrices"
   ]
  },
  {
   "cell_type": "code",
   "execution_count": 111,
   "metadata": {},
   "outputs": [
    {
     "name": "stderr",
     "output_type": "stream",
     "text": [
      "/opt/miniconda/envs/py36/lib/python3.6/site-packages/ipykernel_launcher.py:4: RuntimeWarning: More than 20 figures have been opened. Figures created through the pyplot interface (`matplotlib.pyplot.figure`) are retained until explicitly closed and may consume too much memory. (To control this warning, see the rcParam `figure.max_open_warning`).\n",
      "  after removing the cwd from sys.path.\n"
     ]
    },
    {
     "data": {
      "application/vnd.jupyter.widget-view+json": {
       "model_id": "cde3fa2df8674da490011265859f5b48",
       "version_major": 2,
       "version_minor": 0
      },
      "text/plain": [
       "Canvas(toolbar=Toolbar(toolitems=[('Home', 'Reset original view', 'home', 'home'), ('Back', 'Back to previous …"
      ]
     },
     "metadata": {},
     "output_type": "display_data"
    },
    {
     "data": {
      "text/plain": [
       "Text(0.5, 1.0, 'WKB')"
      ]
     },
     "execution_count": 111,
     "metadata": {},
     "output_type": "execute_result"
    }
   ],
   "source": [
    "A_as = M0_cs_trans.transpose().conjugate()@M0_as\n",
    "A_eig = M0_cs_trans.transpose().conjugate()@M0_eig\n",
    "A_wkb = M0_cs_trans.transpose().conjugate()@M0_wkb\n",
    "plt.figure(figsize = (12,5))\n",
    "plt.subplot(131)\n",
    "plt.imshow(np.abs(A_as), interpolation = 'None')\n",
    "plt.axis('off')\n",
    "plt.title('axisymmetric solver')\n",
    "plt.subplot(132)\n",
    "plt.imshow(np.abs(A_eig), interpolation = 'None')\n",
    "plt.axis('off')\n",
    "plt.title('2D eigenvalue solver')\n",
    "plt.subplot(133)\n",
    "plt.imshow(np.abs(A_wkb), interpolation = 'None')\n",
    "plt.axis('off')\n",
    "plt.title('WKB')\n"
   ]
  },
  {
   "cell_type": "markdown",
   "metadata": {},
   "source": [
    "### 7.2 Check for conversion losses"
   ]
  },
  {
   "cell_type": "markdown",
   "metadata": {},
   "source": [
    "We compute the singular value decomposition of the conversion matrix between the modes found using Comsol\n",
    "and using the pyMMF solvers $M_\\text{cs}^\\dagger . M_\\text{pyMMF}$. \n",
    "Ideally, if two bases represent the same subspace, the conversion matrix has to be unitary, \n",
    "i.e. all its singular values are equal to one."
   ]
  },
  {
   "cell_type": "code",
   "execution_count": 112,
   "metadata": {},
   "outputs": [
    {
     "data": {
      "text/plain": [
       "array([1.41465554e+00, 1.41444532e+00, 1.41443210e+00, 1.41441710e+00,\n",
       "       1.41440635e+00, 1.41428857e+00, 1.41426186e+00, 1.41417781e+00,\n",
       "       1.41412997e+00, 1.41410947e+00, 1.41404972e+00, 1.41398770e+00,\n",
       "       1.41384493e+00, 1.41376702e+00, 1.41374820e+00, 1.41367179e+00,\n",
       "       1.41360620e+00, 1.41352967e+00, 1.41331095e+00, 1.41292232e+00,\n",
       "       1.41290608e+00, 1.41231183e+00, 1.41227663e+00, 1.41213774e+00,\n",
       "       1.41201361e+00, 1.41119609e+00, 1.41106513e+00, 1.41096815e+00,\n",
       "       1.41092808e+00, 1.41041403e+00, 1.41026325e+00, 1.40994326e+00,\n",
       "       1.40988926e+00, 1.40953618e+00, 1.40943709e+00, 1.40875850e+00,\n",
       "       1.40733209e+00, 1.40715952e+00, 1.40682779e+00, 1.40640493e+00,\n",
       "       1.40549921e+00, 1.40546866e+00, 1.40493689e+00, 1.40380759e+00,\n",
       "       1.39504130e+00, 1.39418869e+00, 1.37480796e+00, 1.37383158e+00,\n",
       "       1.35659413e+00, 1.35601906e+00, 1.00018938e+00, 1.00018378e+00,\n",
       "       9.99741986e-01, 9.99738951e-01, 9.98950766e-01, 9.98945450e-01,\n",
       "       9.97566218e-01, 9.97547021e-01, 9.94210918e-01, 9.94180414e-01,\n",
       "       1.63095385e-15, 1.20943676e-15, 1.11927432e-15, 1.00662728e-15,\n",
       "       9.29154447e-16, 8.57469730e-16, 8.53950594e-16, 7.87638426e-16,\n",
       "       7.54336337e-16, 7.19131047e-16, 6.61782471e-16, 6.17085910e-16,\n",
       "       5.79011335e-16, 5.71311046e-16, 5.56194963e-16, 5.47420980e-16,\n",
       "       5.04047106e-16, 5.03136991e-16, 4.53394744e-16, 4.19344281e-16,\n",
       "       3.97026958e-16, 3.77003982e-16, 3.59526675e-16, 2.99612955e-16,\n",
       "       2.97889094e-16, 2.94012008e-16, 2.58100958e-16, 2.10590673e-16,\n",
       "       1.53655381e-16, 1.41298268e-16, 1.41298268e-16, 1.41298268e-16,\n",
       "       1.41298268e-16, 1.41298268e-16, 1.41298268e-16, 1.41298268e-16,\n",
       "       1.41298268e-16, 1.41298268e-16, 1.41298268e-16, 1.41298268e-16,\n",
       "       1.41298268e-16, 1.41298268e-16, 1.41298268e-16, 1.41298268e-16,\n",
       "       1.41298268e-16, 1.41298268e-16, 1.41298268e-16, 1.41298268e-16,\n",
       "       1.41298268e-16, 1.32158177e-16])"
      ]
     },
     "execution_count": 112,
     "metadata": {},
     "output_type": "execute_result"
    }
   ],
   "source": [
    "s_wkb"
   ]
  },
  {
   "cell_type": "code",
   "execution_count": 99,
   "metadata": {},
   "outputs": [
    {
     "name": "stderr",
     "output_type": "stream",
     "text": [
      "/opt/miniconda/envs/py36/lib/python3.6/site-packages/ipykernel_launcher.py:4: RuntimeWarning: More than 20 figures have been opened. Figures created through the pyplot interface (`matplotlib.pyplot.figure`) are retained until explicitly closed and may consume too much memory. (To control this warning, see the rcParam `figure.max_open_warning`).\n",
      "  after removing the cwd from sys.path.\n"
     ]
    },
    {
     "data": {
      "application/vnd.jupyter.widget-view+json": {
       "model_id": "62e7ee0a8cc3422fb6e6a84e27ce051d",
       "version_major": 2,
       "version_minor": 0
      },
      "text/plain": [
       "Canvas(toolbar=Toolbar(toolitems=[('Home', 'Reset original view', 'home', 'home'), ('Back', 'Back to previous …"
      ]
     },
     "metadata": {},
     "output_type": "display_data"
    },
    {
     "data": {
      "text/plain": [
       "Text(0.5, 1.0, 'Singular values of conversion matrices')"
      ]
     },
     "execution_count": 99,
     "metadata": {},
     "output_type": "execute_result"
    }
   ],
   "source": [
    "_,s_as,_ = np.linalg.svd(A_as)\n",
    "_,s_eig,_ = np.linalg.svd(A_eig)\n",
    "_,s_wkb,_ = np.linalg.svd(A_wkb)\n",
    "plt.figure(figsize = (10,6))\n",
    "plt.plot(np.sort(np.abs(s_as)), label = 'axisymmetric solver')\n",
    "plt.plot(np.sort(np.abs(s_eig)), label = '2D eigenvalue solver')\n",
    "plt.plot(np.sort(np.abs(s_wkb)), label = 'WKB')\n",
    "plt.ylim([0.5, 1.1])\n",
    "plt.legend()\n",
    "plt.title('Singular values of conversion matrices')"
   ]
  },
  {
   "cell_type": "code",
   "execution_count": null,
   "metadata": {},
   "outputs": [],
   "source": []
  }
 ],
 "metadata": {
  "kernelspec": {
   "display_name": "Python 3",
   "language": "python",
   "name": "python3"
  },
  "language_info": {
   "codemirror_mode": {
    "name": "ipython",
    "version": 3
   },
   "file_extension": ".py",
   "mimetype": "text/x-python",
   "name": "python",
   "nbconvert_exporter": "python",
   "pygments_lexer": "ipython3",
   "version": "3.6.8"
  }
 },
 "nbformat": 4,
 "nbformat_minor": 4
}
